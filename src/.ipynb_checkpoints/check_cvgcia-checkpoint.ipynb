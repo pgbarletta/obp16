{
 "cells": [
  {
   "cell_type": "code",
   "execution_count": 23,
   "metadata": {
    "collapsed": true
   },
   "outputs": [],
   "source": [
    "#writetable(\"pjtion_corto_mto\", df_pjtion_corto_mto, separator='\\t');\n",
    "#writetable(\"pjtion_largo_mto\", df_pjtion_largo_mto, separator='\\t');\n",
    "#writetable(\"pjtion_portal_mto\", df_pjtion_portal_mto, separator='\\t');"
   ]
  },
  {
   "cell_type": "code",
   "execution_count": 1,
   "metadata": {
    "collapsed": false
   },
   "outputs": [
    {
     "name": "stderr",
     "output_type": "stream",
     "text": [
      "\n",
      "WARNING: deprecated syntax \"{}\" at /home/german/.julia/v0.4/Switch/src/Switch.jl:8.\n",
      "Use \"[]\" instead.\n",
      "\n",
      "WARNING: deprecated syntax \"{}\" at /home/german/.julia/v0.4/Switch/src/Switch.jl:9.\n",
      "Use \"[]\" instead.\n",
      "\n",
      "WARNING: deprecated syntax \"{}\" at /home/german/.julia/v0.4/Switch/src/Switch.jl:21.\n",
      "Use \"[]\" instead.\n",
      "\n",
      "WARNING: deprecated syntax \"{}\" at /home/german/.julia/v0.4/Switch/src/Switch.jl:30.\n",
      "Use \"[]\" instead.\n",
      "\n",
      "WARNING: deprecated syntax \"{}\" at /home/german/.julia/v0.4/Switch/src/Switch.jl:44.\n",
      "Use \"[]\" instead.\n",
      "\n",
      "WARNING: deprecated syntax \"{}\" at /home/german/.julia/v0.4/Switch/src/Switch.jl:61.\n",
      "Use \"[]\" instead.\n"
     ]
    }
   ],
   "source": [
    "using DataFrames\n",
    "using Chemfiles\n",
    "using Gadfly\n",
    "using Cairo\n",
    "using Distributions\n",
    "using Bio\n",
    "set_default_plot_size(28cm, 16cm)"
   ]
  },
  {
   "cell_type": "code",
   "execution_count": 2,
   "metadata": {
    "collapsed": false
   },
   "outputs": [
    {
     "data": {
      "text/plain": [
       "read_ptraj_modes (generic function with 1 method)"
      ]
     },
     "execution_count": 2,
     "metadata": {},
     "output_type": "execute_result"
    }
   ],
   "source": [
    "function read_ptraj_modes(file, modes_elements)    \n",
    "    modes_file=open(file, \"r\")\n",
    "    modes_text = readdlm(modes_file, skipstart=0, skipblanks=true, \n",
    "    ignore_invalid_chars=true, comments=true, comment_char='\\*')\n",
    "    close(modes_file)\n",
    "\n",
    "    nmodes = modes_text[1, 5]\n",
    "    ncoords = convert(Int64, modes_elements)\n",
    "    lines = ceil(Int64, ncoords/7)\n",
    "    rest = convert(Int64, ncoords % 7)\n",
    "    \n",
    "    eval=Array{Float64}(nmodes);\n",
    "    mode = Array{Float64}(ncoords, nmodes);\n",
    "    temp1=Array{Float64}(ncoords, 1);\n",
    "    temp2 = Array{Float64}(ncoords+(7-rest));\n",
    "\n",
    "    j=lines + 1 + 2 # 1 p/ q lea la prox linea 2 por el header\n",
    "\n",
    "    for i=1:nmodes\n",
    "        eval[i] = modes_text[j, 2]\n",
    "        temp = transpose(modes_text[(j+1):(lines+j), :])\n",
    "        temp2 = reshape(temp, ncoords+(7-rest))\n",
    "        for k=(rest+1):7\n",
    "            pop!(temp2)\n",
    "        end\n",
    "    mode[:, i] = temp2\n",
    "        j = j + lines + 1\n",
    "    end\n",
    "    \n",
    "    for i=1:nmodes\n",
    "        mode[: ,i] = mode[:, i] / norm(mode[:, i])\n",
    "    end\n",
    "    \n",
    "    return mode, eval\n",
    "end"
   ]
  },
  {
   "cell_type": "code",
   "execution_count": 3,
   "metadata": {
    "collapsed": false,
    "scrolled": true
   },
   "outputs": [],
   "source": [
    "#Preparo variables\n",
    "aa3 = 342\n",
    "aa36 = aa3 - 6\n",
    "\n",
    "pjtion_wt_apo = Array{Float64}(aa36);\n",
    "pjtion_wt_ctv = Array{Float64}(aa36);\n",
    "pjtion_wt_eol = Array{Float64}(aa36);\n",
    "\n",
    "pjtion_mu_apo = Array{Float64}(aa36);\n",
    "pjtion_mu_ctv = Array{Float64}(aa36);\n",
    "pjtion_mu_eol = Array{Float64}(aa36);"
   ]
  },
  {
   "cell_type": "code",
   "execution_count": 4,
   "metadata": {
    "collapsed": false
   },
   "outputs": [],
   "source": [
    "# Leo los modos de PCA\n",
    "modes_wt_apo_half_1, evals_wt_apo_half_1 = read_ptraj_modes(\"/home/german/labo/16/obp/run/wt_apo/cvgcia_check/half_1_modes_wt_apo\", aa3);\n",
    "modes_wt_apo_half_2, evals_wt_apo_half_2 = read_ptraj_modes(\"/home/german/labo/16/obp/run/wt_apo/cvgcia_check/half_2_modes_wt_apo\", aa3);\n",
    "\n",
    "modes_wt_ctv_half_1, evals_wt_ctv_half_1 = read_ptraj_modes(\"/home/german/labo/16/obp/run/wt_ctv/cvgcia_check/half_1_modes_wt_ctv\", aa3);\n",
    "modes_wt_ctv_half_2, evals_wt_ctv_half_2 = read_ptraj_modes(\"/home/german/labo/16/obp/run/wt_ctv/cvgcia_check/half_2_modes_wt_ctv\", aa3);\n",
    "\n",
    "modes_wt_eol_half_1, evals_wt_eol_half_1 = read_ptraj_modes(\"/home/german/labo/16/obp/run/wt_eol/cvgcia_check/half_1_modes_wt_eol\", aa3);\n",
    "modes_wt_eol_half_2, evals_wt_eol_half_2 = read_ptraj_modes(\"/home/german/labo/16/obp/run/wt_eol/cvgcia_check/half_2_modes_wt_eol\", aa3);\n",
    "\n",
    "modes_mu_apo_half_1, evals_mu_apo_half_1 = read_ptraj_modes(\"/home/german/labo/16/obp/run/mu_apo/cvgcia_check/half_1_modes_mu_apo\", aa3);\n",
    "modes_mu_apo_half_2, evals_mu_apo_half_2 = read_ptraj_modes(\"/home/german/labo/16/obp/run/mu_apo/cvgcia_check/half_2_modes_mu_apo\", aa3);\n",
    "\n",
    "modes_mu_ctv_half_1, evals_mu_ctv_half_1 = read_ptraj_modes(\"/home/german/labo/16/obp/run/mu_ctv/cvgcia_check/half_1_modes_mu_ctv\", aa3);\n",
    "modes_mu_ctv_half_2, evals_mu_ctv_half_2 = read_ptraj_modes(\"/home/german/labo/16/obp/run/mu_ctv/cvgcia_check/half_2_modes_mu_ctv\", aa3);\n",
    "\n",
    "modes_mu_eol_half_1, evals_mu_eol_half_1 = read_ptraj_modes(\"/home/german/labo/16/obp/run/mu_eol/cvgcia_check/half_1_modes_mu_eol\", aa3);\n",
    "modes_mu_eol_half_2, evals_mu_eol_half_2 = read_ptraj_modes(\"/home/german/labo/16/obp/run/mu_eol/cvgcia_check/half_2_modes_mu_eol\", aa3);"
   ]
  },
  {
   "cell_type": "code",
   "execution_count": 5,
   "metadata": {
    "collapsed": false
   },
   "outputs": [],
   "source": [
    "for i=1:aa36\n",
    "    pjtion_wt_apo[i] = (dot(modes_wt_apo_half_1[:, i], modes_wt_apo_half_2[:, i]))^2\n",
    "end\n",
    "\n",
    "for i=1:aa36\n",
    "    pjtion_wt_ctv[i] = (dot(modes_wt_ctv_half_1[:, i], modes_wt_ctv_half_2[:, i]))^2\n",
    "end\n",
    "\n",
    "for i=1:aa36\n",
    "    pjtion_wt_eol[i] = (dot(modes_wt_eol_half_1[:, i], modes_wt_eol_half_2[:, i]))^2\n",
    "end\n",
    "\n",
    "for i=1:aa36\n",
    "    pjtion_mu_apo[i] = (dot(modes_mu_apo_half_1[:, i], modes_mu_apo_half_2[:, i]))^2\n",
    "end\n",
    "\n",
    "for i=1:aa36\n",
    "    pjtion_mu_ctv[i] = (dot(modes_mu_ctv_half_1[:, i], modes_mu_ctv_half_2[:, i]))^2\n",
    "end\n",
    "\n",
    "for i=1:aa36\n",
    "    pjtion_mu_eol[i] = (dot(modes_mu_eol_half_1[:, i], modes_mu_eol_half_2[:, i]))^2\n",
    "end"
   ]
  },
  {
   "cell_type": "code",
   "execution_count": 26,
   "metadata": {
    "collapsed": false
   },
   "outputs": [
    {
     "data": {
      "text/plain": [
       "1-element Array{Float64,1}:\n",
       " 0.0146396"
      ]
     },
     "execution_count": 26,
     "metadata": {},
     "output_type": "execute_result"
    }
   ],
   "source": []
  },
  {
   "cell_type": "code",
   "execution_count": 8,
   "metadata": {
    "collapsed": false
   },
   "outputs": [
    {
     "data": {
      "text/plain": [
       "336-element Array{Float64,1}:\n",
       " 0.201321   \n",
       " 0.0565367  \n",
       " 0.00014764 \n",
       " 0.210535   \n",
       " 0.449353   \n",
       " 0.00698142 \n",
       " 0.00464957 \n",
       " 0.000876984\n",
       " 0.108181   \n",
       " 0.186893   \n",
       " 0.04046    \n",
       " 0.0224508  \n",
       " 0.024579   \n",
       " ⋮          \n",
       " 0.0082633  \n",
       " 0.00589546 \n",
       " 0.00629266 \n",
       " 0.0524515  \n",
       " 0.0476519  \n",
       " 0.0102234  \n",
       " 0.00175327 \n",
       " 0.0381646  \n",
       " 0.0262703  \n",
       " 0.286204   \n",
       " 0.0337648  \n",
       " 0.907162   "
      ]
     },
     "execution_count": 8,
     "metadata": {},
     "output_type": "execute_result"
    }
   ],
   "source": [
    "#pjtion_wt_apo\n",
    "#pjtion_wt_ctv\n",
    "pjtion_wt_eol"
   ]
  },
  {
   "cell_type": "code",
   "execution_count": null,
   "metadata": {
    "collapsed": true
   },
   "outputs": [],
   "source": []
  },
  {
   "cell_type": "code",
   "execution_count": null,
   "metadata": {
    "collapsed": true
   },
   "outputs": [],
   "source": []
  }
 ],
 "metadata": {
  "kernelspec": {
   "display_name": "Julia 0.4.2",
   "language": "julia",
   "name": "julia-0.4"
  },
  "language_info": {
   "file_extension": ".jl",
   "mimetype": "application/julia",
   "name": "julia",
   "version": "0.4.5"
  }
 },
 "nbformat": 4,
 "nbformat_minor": 0
}
