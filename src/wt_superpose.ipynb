{
 "cells": [
  {
   "cell_type": "markdown",
   "metadata": {},
   "source": [
    "# Difference vectors projections onto PCA subspace \n",
    "Este código toma una trayectoria completa (previamente fitteada al average) y obtiene los vectores diferencia normalizados. Luego lee los PCA (q también fueron obtenidos en base al average) y proyecta todas los vectores diferencia en la base de los PCA."
   ]
  },
  {
   "cell_type": "code",
   "execution_count": null,
   "metadata": {
    "collapsed": false
   },
   "outputs": [],
   "source": [
    "using DataFrames\n",
    "using Chemfiles\n",
    "using Gadfly\n",
    "using Cairo\n",
    "using Distributions\n",
    "using Bio"
   ]
  },
  {
   "cell_type": "markdown",
   "metadata": {
    "collapsed": false
   },
   "source": [
    "#### Estas celdas son p/ escribir las proyecciones y los vectores diferencia.\n",
    "#### Si son muchos snapshots, esto toma mucho tiempo. Así q no lo hago."
   ]
  },
  {
   "cell_type": "code",
   "execution_count": null,
   "metadata": {
    "collapsed": false
   },
   "outputs": [],
   "source": [
    "# Las layer aceptan solo dataframes\n",
    "#df_pnum_wt_apo = DataFrame(transpose(pnum_wt_apo));\n",
    "#writetable(\"pnum_wt_apo\", df_pnum_wt_apo, separator='\\t');\n",
    "\n",
    "#df_pnum_wt_ctv = DataFrame(transpose(pnum_wt_ctv));\n",
    "#writetable(\"pnum_wt_ctv\", df_pnum_wt_ctv, separator='\\t');\n",
    "\n",
    "#df_pnum_wt_eol = DataFrame(transpose(pnum_wt_eol));\n",
    "#writetable(\"pnum_wt_eol\", df_pnum_wt_eol, separator='\\t');"
   ]
  },
  {
   "cell_type": "code",
   "execution_count": null,
   "metadata": {
    "collapsed": false
   },
   "outputs": [],
   "source": [
    "#df_projection_wt_apo = DataFrame(projection_wt_apo);\n",
    "#writetable(\"projection_wt_apo\", df_projection_wt_apo, separator='\\t');\n",
    "#df_projection_wt_apo = 0\n",
    "\n",
    "#df_projection_wt_ctv = DataFrame(projection_wt_ctv);\n",
    "#writetable(\"projection_wt_ctv\", df_projection_wt_ctv, separator='\\t');\n",
    "#df_projection_wt_ctv = 0\n",
    "\n",
    "#df_projection_wt_eol = DataFrame(projection_wt_eol);\n",
    "#writetable(\"projection_wt_eol\", df_projection_wt_eol, separator='\\t');\n",
    "#df_projection_wt_eol = 0"
   ]
  },
  {
   "cell_type": "code",
   "execution_count": null,
   "metadata": {
    "collapsed": false
   },
   "outputs": [],
   "source": [
    "# wt_apo\n",
    "#df_essential_index_wt_apo = DataFrame(modo=essential_index_wt_apo);\n",
    "#writetable(\"essential_index_wt_apo\", df_essential_index_wt_apo, separator='\\t');\n",
    "#df_essential_index_wt_apo = 0\n",
    "# wt_ctv\n",
    "#df_essential_index_wt_ctv = DataFrame(modo=essential_index_wt_ctv);\n",
    "#writetable(\"essential_index_wt_ctv\", df_essential_index_wt_ctv, separator='\\t');\n",
    "#df_essential_index_wt_ctv = 0\n",
    "# wt_eol\n",
    "#df_essential_index_wt_eol = DataFrame(modo=essential_index_wt_eol);\n",
    "#writetable(\"essential_index_wt_eol\", df_essential_index_wt_eol, separator='\\t');\n",
    "#df_essential_index_wt_eol = 0"
   ]
  },
  {
   "cell_type": "code",
   "execution_count": null,
   "metadata": {
    "collapsed": false
   },
   "outputs": [],
   "source": [
    "function read_ptraj_modes(file, modes_elements)    \n",
    "    modes_file=open(file, \"r\")\n",
    "    modes_text = readdlm(modes_file, skipstart=0, skipblanks=true, \n",
    "    ignore_invalid_chars=true, comments=true, comment_char='\\*')\n",
    "    close(modes_file)\n",
    "\n",
    "    nmodes = modes_text[1, 5]\n",
    "    ncoords = convert(Int64, modes_elements)\n",
    "    lines = ceil(Int64, ncoords/7)\n",
    "    rest = convert(Int64, ncoords % 7)\n",
    "    \n",
    "    eval=Array{Float64}(nmodes);\n",
    "    mode = Array{Float64}(ncoords, nmodes);\n",
    "    temp1=Array{Float64}(ncoords, 1);\n",
    "    temp2 = Array{Float64}(ncoords+(7-rest));\n",
    "\n",
    "    j=lines + 1 + 2 # 1 p/ q lea la prox linea 2 por el header\n",
    "\n",
    "    for i=1:nmodes\n",
    "        eval[i] = modes_text[j, 2]\n",
    "        temp = transpose(modes_text[(j+1):(lines+j), :])\n",
    "        temp2 = reshape(temp, ncoords+(7-rest))\n",
    "        for k=(rest+1):7\n",
    "            pop!(temp2)\n",
    "        end\n",
    "    mode[:, i] = temp2\n",
    "        j = j + lines + 1\n",
    "    end\n",
    "    \n",
    "    for i=1:nmodes\n",
    "        mode[: ,i] = mode[:, i] / norm(mode[:, i])\n",
    "    end\n",
    "    \n",
    "    return mode, eval\n",
    "end"
   ]
  },
  {
   "cell_type": "code",
   "execution_count": null,
   "metadata": {
    "collapsed": false
   },
   "outputs": [],
   "source": [
    "function read_ptraj_rmsd(file)\n",
    "    rmsd_file=open(file, \"r\")\n",
    "    rmsd_text, rmsd_header = readdlm(rmsd_file, header=true, skipstart=0, skipblanks=true, \n",
    "        ignore_invalid_chars=false, comments = false)\n",
    "    return rmsd_text, rmsd_header\n",
    "    close(rmsd_file)\n",
    "end"
   ]
  },
  {
   "cell_type": "markdown",
   "metadata": {},
   "source": [
    "## wt_apo"
   ]
  },
  {
   "cell_type": "code",
   "execution_count": null,
   "metadata": {
    "collapsed": false
   },
   "outputs": [],
   "source": [
    "# Preparo variables\n",
    "wt_apo_tr=Trajectory(\"/home/german/labo/16/obp/run/wt_apo/avg_fit_wt_apo.nc\")\n",
    "wt_apo_atom_cnt=convert(Int64, natoms(read_step(wt_apo_tr, 1)))\n",
    "wt_apo_frames_cnt=convert(Int64, nsteps(wt_apo_tr))\n",
    "wt_apo_avg_tr=Trajectory(\"/home/german/labo/16/obp/run/wt_apo/avg_wt_apo.pdb\");\n",
    "wt_apo_avg_fr = read(wt_apo_avg_tr);\n",
    "\n",
    "# Acá leo los indices de los carbonos alfa p/ subsettear los vectores posición.\n",
    "file_wt_apo_ca_index=open(\"/home/german/labo/16/obp/run/wt_apo/ca_index_wt_apo\");\n",
    "wt_apo_ca_index_prev = readdlm(file_wt_apo_ca_index);\n",
    "close(file_wt_apo_ca_index);\n",
    "wt_apo_ca_index_prev = convert(Array{Int16,2}, wt_apo_ca_index_prev);\n",
    "wt_apo_ca_index_prev = reshape(wt_apo_ca_index_prev, length(wt_apo_ca_index_prev))\n",
    "\n",
    "# Numero de aa's y de modos\n",
    "aa = length(wt_apo_ca_index_prev)\n",
    "aa3 = 3*length(wt_apo_ca_index_prev)\n",
    "aa36 = aa3 - 6\n",
    "# Preparo más variables\n",
    "diff_vtr_wt_apo = Array{Float32}(aa3, wt_apo_frames_cnt)\n",
    "modes_wt_apo = Array{Float32}(aa3, aa36)\n",
    "wt_apo_ca_index = Array{Int16}(aa3)\n",
    "\n",
    "for i in 1:aa\n",
    "    j=i*3\n",
    "    wt_apo_ca_index[j-2] = wt_apo_ca_index_prev[i] * 3 - 2\n",
    "    wt_apo_ca_index[j-1] = wt_apo_ca_index_prev[i] * 3 - 1\n",
    "    wt_apo_ca_index[j] = wt_apo_ca_index_prev[i] * 3\n",
    "end\n",
    "wt_apo_avg_xyz = getindex(positions(wt_apo_avg_fr), wt_apo_ca_index)\n",
    "\n",
    "# Obtengo los vectores diferencia de los Calpha entre c/ snapshot y el avg\n",
    "for i=1:wt_apo_frames_cnt\n",
    "    wt_apo_fr = read_step(wt_apo_tr, i-1)\n",
    "    wt_apo_xyz = getindex(positions(wt_apo_fr), wt_apo_ca_index)\n",
    "    diff_vtr_wt_apo[:, i]= wt_apo_avg_xyz - wt_apo_xyz\n",
    "    diff_vtr_wt_apo[:, i]= diff_vtr_wt_apo[:, i] / norm(diff_vtr_wt_apo[:, i])\n",
    "end\n",
    "\n",
    "# Leo los modos de PCA\n",
    "modes_wt_apo, evals_wt_apo = read_ptraj_modes(\"/home/german/labo/16/obp/run/wt_apo/modes_wt_apo\", aa3);\n",
    "\n",
    "# Proyecto los vectores diferencia sobre la base de PCA y obtengo los p-numbers\n",
    "projection_wt_apo = transpose(modes_wt_apo) * diff_vtr_wt_apo;\n",
    "projection_wt_apo1 = projection_wt_apo.^4;\n",
    "pnum_wt_apo = mapslices(sum, projection_wt_apo1, 1);\n",
    "pnum_wt_apo = map(x -> 1/x, pnum_wt_apo);\n",
    "\n",
    "# Limpio memoria\n",
    "wt_apo_tr=0;\n",
    "modes_wt_apo=0;\n",
    "diff_vtr_wt_apo=0;\n",
    "projection_wt_apo1=0;\n",
    "gc();"
   ]
  },
  {
   "cell_type": "markdown",
   "metadata": {
    "collapsed": false
   },
   "source": [
    "## wt_ctv"
   ]
  },
  {
   "cell_type": "code",
   "execution_count": null,
   "metadata": {
    "collapsed": false
   },
   "outputs": [],
   "source": [
    "# Preparo variables\n",
    "wt_ctv_tr=Trajectory(\"/home/german/labo/16/obp/run/wt_ctv/avg_fit_wt_ctv.nc\")\n",
    "wt_ctv_atom_cnt=convert(Int64, natoms(read_step(wt_ctv_tr, 1)))\n",
    "wt_ctv_frames_cnt=convert(Int64, nsteps(wt_ctv_tr))\n",
    "wt_ctv_avg_tr=Trajectory(\"/home/german/labo/16/obp/run/wt_ctv/avg_wt_ctv.pdb\");\n",
    "wt_ctv_avg_fr = read(wt_ctv_avg_tr)\n",
    "\n",
    "# Acá leo los indices de los carbonos alfa p/ subsettear los vectores posición.\n",
    "file_wt_ctv_ca_index=open(\"/home/german/labo/16/obp/run/wt_ctv/ca_index_wt_ctv\");\n",
    "wt_ctv_ca_index_prev = readdlm(file_wt_ctv_ca_index);\n",
    "close(file_wt_ctv_ca_index);\n",
    "wt_ctv_ca_index_prev = convert(Array{Int16,2}, wt_ctv_ca_index_prev);\n",
    "wt_ctv_ca_index_prev = reshape(wt_ctv_ca_index_prev, length(wt_ctv_ca_index_prev))\n",
    "\n",
    "# Numero de aa's y de modos\n",
    "aa = length(wt_ctv_ca_index_prev)\n",
    "aa3 = 3*length(wt_ctv_ca_index_prev)\n",
    "aa36 = aa3 - 6\n",
    "# Preparo más variables\n",
    "diff_vtr_wt_ctv = Array{Float32}(aa3, wt_ctv_frames_cnt)\n",
    "modes_wt_ctv = Array{Float32}(aa3, aa36)\n",
    "wt_ctv_ca_index = Array{Int16}(aa3)\n",
    "\n",
    "for i in 1:aa\n",
    "    j=i*3\n",
    "    wt_ctv_ca_index[j-2] = wt_ctv_ca_index_prev[i] * 3 - 2\n",
    "    wt_ctv_ca_index[j-1] = wt_ctv_ca_index_prev[i] * 3 - 1\n",
    "    wt_ctv_ca_index[j] = wt_ctv_ca_index_prev[i] * 3\n",
    "end\n",
    "wt_ctv_avg_xyz = getindex(positions(wt_ctv_avg_fr), wt_ctv_ca_index)\n",
    "\n",
    "# Obtengo los vectores diferencia de los Calpha entre c/ snapshot y el avg\n",
    "for i=1:wt_ctv_frames_cnt\n",
    "    wt_ctv_fr = read_step(wt_ctv_tr, i-1)\n",
    "    wt_ctv_xyz = getindex(positions(wt_ctv_fr), wt_ctv_ca_index)\n",
    "    diff_vtr_wt_ctv[:, i]= wt_ctv_avg_xyz - wt_ctv_xyz\n",
    "    diff_vtr_wt_ctv[:, i]= diff_vtr_wt_ctv[:, i] / norm(diff_vtr_wt_ctv[:, i])\n",
    "end\n",
    "\n",
    "# Leo los modos de PCA\n",
    "modes_wt_ctv, evals_wt_ctv = read_ptraj_modes(\"/home/german/labo/16/obp/run/wt_ctv/modes_wt_ctv\", aa3);\n",
    "\n",
    "# Proyecto los vectores diferencia sobre la base de PCA y obtengo los p-numbers\n",
    "projection_wt_ctv = transpose(modes_wt_ctv) * diff_vtr_wt_ctv;\n",
    "projection_wt_ctv1 = projection_wt_ctv.^4;\n",
    "pnum_wt_ctv = mapslices(sum, projection_wt_ctv1, 1);\n",
    "pnum_wt_ctv = map(x -> 1/x, pnum_wt_ctv);\n",
    "\n",
    "# Limpio memoria\n",
    "wt_ctv_tr=0;\n",
    "modes_wt_ctv=0;\n",
    "diff_vtr_wt_ctv=0;\n",
    "projection_wt_ctv1=0;\n",
    "gc()\n"
   ]
  },
  {
   "cell_type": "markdown",
   "metadata": {
    "collapsed": false
   },
   "source": [
    "## wt_eol"
   ]
  },
  {
   "cell_type": "code",
   "execution_count": null,
   "metadata": {
    "collapsed": false
   },
   "outputs": [],
   "source": [
    "# Preparo variables\n",
    "wt_eol_tr=Trajectory(\"/home/german/labo/16/obp/run/wt_eol/avg_fit_wt_eol.nc\")\n",
    "wt_eol_atom_cnt=convert(Int64, natoms(read_step(wt_eol_tr, 1)))\n",
    "wt_eol_frames_cnt=convert(Int64, nsteps(wt_eol_tr))\n",
    "wt_eol_avg_tr=Trajectory(\"/home/german/labo/16/obp/run/wt_eol/avg_wt_eol.pdb\");\n",
    "wt_eol_avg_fr = read(wt_eol_avg_tr)\n",
    "\n",
    "# Acá leo los indices de los carbonos alfa p/ subsettear los vectores posición.\n",
    "file_wt_eol_ca_index=open(\"/home/german/labo/16/obp/run/wt_eol/ca_index_wt_eol\");\n",
    "wt_eol_ca_index_prev = readdlm(file_wt_eol_ca_index);\n",
    "close(file_wt_eol_ca_index);\n",
    "wt_eol_ca_index_prev = convert(Array{Int16,2}, wt_eol_ca_index_prev);\n",
    "wt_eol_ca_index_prev = reshape(wt_eol_ca_index_prev, length(wt_eol_ca_index_prev))\n",
    "\n",
    "# Numero de aa's y de modos\n",
    "aa = length(wt_eol_ca_index_prev)\n",
    "aa3 = 3*length(wt_eol_ca_index_prev)\n",
    "aa36 = aa3 - 6\n",
    "# Preparo más variables\n",
    "diff_vtr_wt_eol = Array{Float32}(aa3, wt_eol_frames_cnt)\n",
    "modes_wt_eol = Array{Float32}(aa3, aa36)\n",
    "wt_eol_ca_index = Array{Int16}(aa3)\n",
    "\n",
    "for i in 1:aa\n",
    "    j=i*3\n",
    "    wt_eol_ca_index[j-2] = wt_eol_ca_index_prev[i] * 3 - 2\n",
    "    wt_eol_ca_index[j-1] = wt_eol_ca_index_prev[i] * 3 - 1\n",
    "    wt_eol_ca_index[j] = wt_eol_ca_index_prev[i] * 3\n",
    "end\n",
    "wt_eol_avg_xyz = getindex(positions(wt_eol_avg_fr), wt_eol_ca_index)\n",
    "\n",
    "# Obtengo los vectores diferencia de los Calpha entre c/ snapshot y el avg\n",
    "for i=1:wt_eol_frames_cnt\n",
    "    wt_eol_fr = read_step(wt_eol_tr, i-1)\n",
    "    wt_eol_xyz = getindex(positions(wt_eol_fr), wt_eol_ca_index)\n",
    "    diff_vtr_wt_eol[:, i]= wt_eol_avg_xyz - wt_eol_xyz\n",
    "    diff_vtr_wt_eol[:, i]= diff_vtr_wt_eol[:, i] / norm(diff_vtr_wt_eol[:, i])\n",
    "end\n",
    "\n",
    "# Leo los modos de PCA\n",
    "modes_wt_eol, evals_wt_eol = read_ptraj_modes(\"/home/german/labo/16/obp/run/wt_eol/modes_wt_eol\", aa3);\n",
    "\n",
    "# Proyecto los vectores diferencia sobre la base de PCA y obtengo los p-numbers\n",
    "projection_wt_eol = transpose(modes_wt_eol) * diff_vtr_wt_eol;\n",
    "projection_wt_eol1 = projection_wt_eol.^4;\n",
    "pnum_wt_eol = mapslices(sum, projection_wt_eol1, 1);\n",
    "pnum_wt_eol = map(x -> 1/x, pnum_wt_eol);\n",
    "\n",
    "# Limpio memoria\n",
    "wt_eol_tr=0;\n",
    "modes_wt_eol=0;\n",
    "diff_vtr_wt_eol=0;\n",
    "projection_wt_eol1=0;\n",
    "gc()"
   ]
  },
  {
   "cell_type": "markdown",
   "metadata": {
    "collapsed": false
   },
   "source": [
    "### Plots"
   ]
  },
  {
   "cell_type": "code",
   "execution_count": null,
   "metadata": {
    "collapsed": false
   },
   "outputs": [],
   "source": [
    "set_default_plot_size(28cm, 16cm)\n",
    "df_pnum_wt_apo = DataFrame(transpose(pnum_wt_apo));\n",
    "df_pnum_wt_ctv = DataFrame(transpose(pnum_wt_ctv));\n",
    "df_pnum_wt_eol = DataFrame(transpose(pnum_wt_eol));\n",
    "\n",
    "wt_apo_layer = layer(df_pnum_wt_apo, x=\"x1\", Geom.density(), Theme(default_color=colorant\"deepskyblue\"))\n",
    "wt_ctv_layer = layer(df_pnum_wt_ctv, x=\"x1\", Geom.density(), Theme(default_color=colorant\"blue\"))\n",
    "wt_eol_layer = layer(df_pnum_wt_eol, x=\"x1\", Geom.density(), Theme(default_color=colorant\"purple\"))\n",
    "\n",
    "pnum_hist_wt = plot(wt_apo_layer, wt_ctv_layer, wt_eol_layer,\n",
    "Guide.xlabel(\"P-number\"), Guide.ylabel(\"Probability density\"), Guide.Title(\"Wt modes P-number\"),\n",
    "Guide.manual_color_key(\"Legend\", [\"wt_apo\", \"wt_ctv\", \"wt_eol\"],\n",
    "[\"deepskyblue\", \"blue\", \"purple\"]),\n",
    "Coord.Cartesian(xmin=0, xmax=30),\n",
    "Guide.xticks(ticks = collect(1:2:25), orientation=:horizontal));\n",
    "\n",
    "pnum_hist_wt"
   ]
  },
  {
   "cell_type": "code",
   "execution_count": null,
   "metadata": {
    "collapsed": false
   },
   "outputs": [],
   "source": [
    "draw(PDF(\"pnum_hist_wt.pdf\", 20cm, 10cm), pnum_hist_wt);"
   ]
  },
  {
   "cell_type": "markdown",
   "metadata": {
    "collapsed": false
   },
   "source": [
    "## Ahora empiezo a ver segun modo"
   ]
  },
  {
   "cell_type": "code",
   "execution_count": null,
   "metadata": {
    "collapsed": false
   },
   "outputs": [],
   "source": [
    "df_pnum_wt_apo[:x1] = round(df_pnum_wt_apo[:x1]);\n",
    "df_pnum_wt_ctv[:x1] = round(df_pnum_wt_ctv[:x1]);\n",
    "df_pnum_wt_eol[:x1] = round(df_pnum_wt_eol[:x1]);\n",
    "projection_wt_apo1 = abs(projection_wt_apo);\n",
    "projection_wt_ctv1 = abs(projection_wt_ctv);\n",
    "projection_wt_eol1 = abs(projection_wt_eol);"
   ]
  },
  {
   "cell_type": "markdown",
   "metadata": {},
   "source": [
    "### Ordeno las projecciones de los modos "
   ]
  },
  {
   "cell_type": "code",
   "execution_count": null,
   "metadata": {
    "collapsed": false
   },
   "outputs": [],
   "source": [
    "# wt_apo\n",
    "index_wt_apo=Array{Int64}(aa36, wt_apo_frames_cnt-1);\n",
    "for i=1:wt_apo_frames_cnt-1\n",
    "    index_wt_apo[:, i] = sortperm(projection_wt_apo1[:, i], rev=true)\n",
    "end\n",
    "\n",
    "# wt_ctv\n",
    "index_wt_ctv=Array{Int64}(aa36, wt_ctv_frames_cnt-1);\n",
    "for i=1:wt_ctv_frames_cnt-1\n",
    "    index_wt_ctv[:, i] = sortperm(projection_wt_ctv1[:, i], rev=true)\n",
    "end\n",
    "\n",
    "# wt_eol\n",
    "index_wt_eol=Array{Int64}(aa36, wt_eol_frames_cnt-1);\n",
    "for i=1:wt_eol_frames_cnt-1\n",
    "    index_wt_eol[:, i] = sortperm(projection_wt_eol1[:, i], rev=true)\n",
    "end"
   ]
  },
  {
   "cell_type": "markdown",
   "metadata": {
    "collapsed": false
   },
   "source": [
    "### Obtengo los índices de los pnum modos p/ c/ snapshot"
   ]
  },
  {
   "cell_type": "code",
   "execution_count": null,
   "metadata": {
    "collapsed": false
   },
   "outputs": [],
   "source": [
    "# wt_apo\n",
    "pmodes_index_wt_apo=Array{Int64}(1);\n",
    "for i=1:wt_apo_frames_cnt-1\n",
    "    pnum = convert(Int, df_pnum_wt_apo[i, 1])\n",
    "    append!(pmodes_index_wt_apo, index_wt_apo[1:pnum, i])\n",
    "end\n",
    "shift!(pmodes_index_wt_apo);\n",
    "\n",
    "# wt_ctv\n",
    "pmodes_index_wt_ctv=Array{Int64}(1);\n",
    "for i=1:wt_ctv_frames_cnt-1\n",
    "    pnum = convert(Int, df_pnum_wt_ctv[i, 1])\n",
    "    append!(pmodes_index_wt_ctv, index_wt_ctv[1:pnum, i])\n",
    "end\n",
    "shift!(pmodes_index_wt_ctv);\n",
    "\n",
    "# wt_eol\n",
    "pmodes_index_wt_eol=Array{Int64}(1);\n",
    "for i=1:wt_eol_frames_cnt-1\n",
    "    pnum = convert(Int, df_pnum_wt_eol[i, 1])\n",
    "    append!(pmodes_index_wt_eol, index_wt_eol[1:pnum, i])\n",
    "end\n",
    "shift!(pmodes_index_wt_eol);"
   ]
  },
  {
   "cell_type": "markdown",
   "metadata": {},
   "source": [
    "### Plots"
   ]
  },
  {
   "cell_type": "code",
   "execution_count": null,
   "metadata": {
    "collapsed": false,
    "scrolled": true
   },
   "outputs": [],
   "source": [
    "set_default_plot_size(28cm, 10cm)\n",
    "\n",
    "# wt_apo\n",
    "bins_wt_apo, counts_wt_apo = hist(pmodes_index_wt_apo, collect(0:aa36-1))\n",
    "xmin_wt_apo = bins_wt_apo\n",
    "xmax_wt_apo = bins_wt_apo .+ 0.33\n",
    "pop!(xmin_wt_apo)\n",
    "pop!(xmax_wt_apo)\n",
    "freq_wt_apo = counts_wt_apo / wt_apo_frames_cnt\n",
    "pmodes_index_wt_apo_layer = layer(xmin = xmin_wt_apo, xmax = xmax_wt_apo, y = freq_wt_apo, Geom.bar(position=:dodge),\n",
    "Theme(default_color=colorant\"deepskyblue\", bar_spacing = 10pt));\n",
    "\n",
    "# wt_ctv\n",
    "bins_wt_ctv, counts_wt_ctv = hist(pmodes_index_wt_ctv, collect(0:aa36-1))\n",
    "xmin_wt_ctv = bins_wt_ctv .+ 0.33\n",
    "xmax_wt_ctv = bins_wt_ctv .+ 0.66\n",
    "pop!(xmin_wt_ctv)\n",
    "pop!(xmax_wt_ctv)\n",
    "freq_wt_ctv = counts_wt_ctv / wt_ctv_frames_cnt\n",
    "pmodes_index_wt_ctv_layer = layer(xmin = xmin_wt_ctv, xmax= xmax_wt_ctv, y = freq_wt_ctv, Geom.bar(position=:dodge),\n",
    "Theme(default_color=colorant\"blue\", bar_spacing = 10pt))\n",
    "\n",
    "# wt_eol\n",
    "bins_wt_eol, counts_wt_eol = hist(pmodes_index_wt_eol, collect(0:aa36-1))\n",
    "xmin_wt_eol = bins_wt_eol .+ 0.66\n",
    "xmax_wt_eol = bins_wt_eol .+ 1.0\n",
    "pop!(xmin_wt_eol)\n",
    "pop!(xmax_wt_eol)\n",
    "freq_wt_eol = counts_wt_eol / wt_eol_frames_cnt\n",
    "pmodes_index_wt_eol_layer = layer(xmin = xmin_wt_eol, xmax= xmax_wt_eol, y = freq_wt_eol, Geom.bar(position=:dodge),\n",
    "Theme(default_color=colorant\"purple\", line_width = 1pt, bar_highlight = colorant\"purple\", bar_spacing = 10pt))\n",
    "\n",
    "pmodes_hist_wt_apo = plot(pmodes_index_wt_apo_layer,\n",
    "Guide.xlabel(\"Mode #\"), Guide.ylabel(\"Probability density\"), Guide.Title(\"Relative probability of each mode\"),\n",
    "Guide.manual_color_key(\"Legend\", [\"wt_apo\"],\n",
    "[\"deepskyblue\"]),\n",
    "Coord.Cartesian(xmin=1, xmax=25),\n",
    "Guide.xticks(ticks = collect(1:2:25), orientation=:horizontal),\n",
    "Guide.yticks(ticks = collect(0.0:0.2:1.0), orientation=:horizontal));\n",
    "\n",
    "pmodes_hist_wt_ctv = plot(pmodes_index_wt_ctv_layer,\n",
    "Guide.xlabel(\"Mode #\"), Guide.ylabel(\"Probability density\"), Guide.Title(\"Relative probability of each mode\"),\n",
    "Guide.manual_color_key(\"Legend\", [\"wt_ctv\"],\n",
    "[\"blue\"]),\n",
    "Coord.Cartesian(xmin=1, xmax=25),\n",
    "Guide.xticks(ticks = collect(1:2:25), orientation=:horizontal),\n",
    "Guide.yticks(ticks = collect(0.0:0.2:1.0), orientation=:horizontal));\n",
    "\n",
    "pmodes_hist_wt_eol = plot(pmodes_index_wt_eol_layer,\n",
    "Guide.xlabel(\"Mode #\"), Guide.ylabel(\"Probability density\"), Guide.Title(\"Relative probability of each mode\"),\n",
    "Guide.manual_color_key(\"Legend\", [\"wt_eol\"],\n",
    "[\"purple\"]),\n",
    "Coord.Cartesian(xmin=1, xmax=25),\n",
    "Guide.xticks(ticks = collect(1:2:25), orientation=:horizontal),\n",
    "Guide.yticks(ticks = collect(0.0:0.2:1.0), orientation=:horizontal));\n",
    "\n",
    "pmodes_hist_wt_apo\n",
    "pmodes_hist_wt_ctv\n",
    "pmodes_hist_wt_eol"
   ]
  },
  {
   "cell_type": "code",
   "execution_count": null,
   "metadata": {
    "collapsed": false
   },
   "outputs": [],
   "source": [
    "draw(PDF(\"pmodes_hist_wt.pdf\", 20cm, 40cm), vstack(pmodes_hist_wt_apo, pmodes_hist_wt_ctv, pmodes_hist_wt_eol));"
   ]
  },
  {
   "cell_type": "markdown",
   "metadata": {},
   "source": [
    "# P number de c/ modo según SSE"
   ]
  },
  {
   "cell_type": "code",
   "execution_count": null,
   "metadata": {
    "collapsed": false
   },
   "outputs": [],
   "source": [
    "# Defino los Calphas de las structs secundarias\n",
    "α1=collect(1:19)\n",
    "    l1=collect(20:22)\n",
    "α2=collect(23:30)\n",
    "    l2=collect(31:38)\n",
    "α3=collect(39:51)\n",
    "    l3=collect(52:62)\n",
    "α4=collect(63:70)\n",
    "    l4=collect(71:75)\n",
    "α5=collect(76:86)\n",
    "    l5=collect(87:93)\n",
    "α6=collect(94:106)\n",
    "    l6=collect(107:110)\n",
    "α7=collect(111:114)\n",
    "\n",
    "# Ahora los indices de sus coordenadas xyz\n",
    "α13 = map(x -> x*3, repeat(α1, inner=[3])) - repeat([2, 1, 0], outer = [length(α1)])\n",
    "α23 = map(x -> x*3, repeat(α2, inner=[3])) - repeat([2, 1, 0], outer = [length(α2)])\n",
    "α33 = map(x -> x*3, repeat(α3, inner=[3])) - repeat([2, 1, 0], outer = [length(α3)])\n",
    "α43 = map(x -> x*3, repeat(α4, inner=[3])) - repeat([2, 1, 0], outer = [length(α4)])\n",
    "α53 = map(x -> x*3, repeat(α5, inner=[3])) - repeat([2, 1, 0], outer = [length(α5)])\n",
    "α63 = map(x -> x*3, repeat(α6, inner=[3])) - repeat([2, 1, 0], outer = [length(α6)])\n",
    "α73 = map(x -> x*3, repeat(α7, inner=[3])) - repeat([2, 1, 0], outer = [length(α7)]);\n",
    "\n",
    "l13 = map(x -> x*3, repeat(l1, inner=[3])) - repeat([2, 1, 0], outer = [length(l1)])\n",
    "l23 = map(x -> x*3, repeat(l2, inner=[3])) - repeat([2, 1, 0], outer = [length(l2)])\n",
    "l33 = map(x -> x*3, repeat(l3, inner=[3])) - repeat([2, 1, 0], outer = [length(l3)])\n",
    "l43 = map(x -> x*3, repeat(l4, inner=[3])) - repeat([2, 1, 0], outer = [length(l4)])\n",
    "l53 = map(x -> x*3, repeat(l5, inner=[3])) - repeat([2, 1, 0], outer = [length(l5)])\n",
    "l63 = map(x -> x*3, repeat(l6, inner=[3])) - repeat([2, 1, 0], outer = [length(l6)]);\n",
    "\n",
    "sse_count = 13;"
   ]
  },
  {
   "cell_type": "markdown",
   "metadata": {},
   "source": [
    "## wt_apo"
   ]
  },
  {
   "cell_type": "code",
   "execution_count": null,
   "metadata": {
    "collapsed": false
   },
   "outputs": [],
   "source": [
    "# Leo los modos de PCA\n",
    "modes_wt_apo, evals_wt_apo = read_ptraj_modes(\"/home/german/labo/16/obp/run/wt_apo/modes_wt_apo\", aa3);\n",
    "# Defino subespacio esencial\n",
    "essential_index_wt_apo = sort(unique(pmodes_index_wt_apo)); # 116 modos\n",
    "essential_aa36_wt_apo = size(essential_index_wt_apo)[1]\n",
    "essential_subsp_wt_apo = modes_wt_apo[: , essential_index_wt_apo]\n",
    "\n",
    "# Subsetteo el essential subspace segun SSE\n",
    "essential_subsp_α1_wt_apo = essential_subsp_wt_apo[α13, :]\n",
    "essential_subsp_α2_wt_apo = essential_subsp_wt_apo[α23, :]\n",
    "essential_subsp_α3_wt_apo = essential_subsp_wt_apo[α33, :]\n",
    "essential_subsp_α4_wt_apo = essential_subsp_wt_apo[α43, :]\n",
    "essential_subsp_α5_wt_apo = essential_subsp_wt_apo[α53, :]\n",
    "essential_subsp_α6_wt_apo = essential_subsp_wt_apo[α63, :]\n",
    "essential_subsp_α7_wt_apo = essential_subsp_wt_apo[α73, :]\n",
    "\n",
    "essential_subsp_l1_wt_apo = essential_subsp_wt_apo[l13, :]\n",
    "essential_subsp_l2_wt_apo = essential_subsp_wt_apo[l23, :]\n",
    "essential_subsp_l3_wt_apo = essential_subsp_wt_apo[l33, :]\n",
    "essential_subsp_l4_wt_apo = essential_subsp_wt_apo[l43, :]\n",
    "essential_subsp_l5_wt_apo = essential_subsp_wt_apo[l53, :]\n",
    "essential_subsp_l6_wt_apo = essential_subsp_wt_apo[l63, :]\n",
    "\n",
    "# 1era parte p/ obtener el pnumber de c/ modo\n",
    "α1_mtx_wt_apo = sum((essential_subsp_α1_wt_apo.^2), 1).^2\n",
    "α2_mtx_wt_apo = sum((essential_subsp_α2_wt_apo.^2), 1).^2\n",
    "α3_mtx_wt_apo = sum((essential_subsp_α3_wt_apo.^2), 1).^2\n",
    "α4_mtx_wt_apo = sum((essential_subsp_α4_wt_apo.^2), 1).^2\n",
    "α5_mtx_wt_apo = sum((essential_subsp_α5_wt_apo.^2), 1).^2\n",
    "α6_mtx_wt_apo = sum((essential_subsp_α6_wt_apo.^2), 1).^2\n",
    "α7_mtx_wt_apo = sum((essential_subsp_α7_wt_apo.^2), 1).^2\n",
    "\n",
    "l1_mtx_wt_apo = sum((essential_subsp_l1_wt_apo.^2), 1).^2\n",
    "l2_mtx_wt_apo = sum((essential_subsp_l2_wt_apo.^2), 1).^2\n",
    "l3_mtx_wt_apo = sum((essential_subsp_l3_wt_apo.^2), 1).^2\n",
    "l4_mtx_wt_apo = sum((essential_subsp_l4_wt_apo.^2), 1).^2\n",
    "l5_mtx_wt_apo = sum((essential_subsp_l5_wt_apo.^2), 1).^2\n",
    "l6_mtx_wt_apo = sum((essential_subsp_l6_wt_apo.^2), 1).^2\n",
    "\n",
    "# Preparo variables\n",
    "sse_wt_apo = Array{Float64}[α1_mtx_wt_apo, α2_mtx_wt_apo, α3_mtx_wt_apo, α4_mtx_wt_apo, α5_mtx_wt_apo,\n",
    "    α6_mtx_wt_apo, α7_mtx_wt_apo, l1_mtx_wt_apo, l2_mtx_wt_apo, l3_mtx_wt_apo,\n",
    "    l4_mtx_wt_apo, l5_mtx_wt_apo, l6_mtx_wt_apo]\n",
    "pnum_sse_wt_apo = Array{Float64}(essential_aa36_wt_apo)\n",
    "\n",
    "# Saco los números de SSE q mueve c/ modo\n",
    "for i = 1:essential_aa36_wt_apo\n",
    "    j=1\n",
    "    temp = 0\n",
    "    for sse in sse_wt_apo\n",
    "        temp = temp + sse[i]  \n",
    "    end\n",
    "    pnum_sse_wt_apo[i] = 1 / temp\n",
    "end"
   ]
  },
  {
   "cell_type": "markdown",
   "metadata": {
    "collapsed": true
   },
   "source": [
    "## wt_ctv"
   ]
  },
  {
   "cell_type": "code",
   "execution_count": null,
   "metadata": {
    "collapsed": false
   },
   "outputs": [],
   "source": [
    "# Leo los modos de PCA\n",
    "modes_wt_ctv, evals_wt_ctv = read_ptraj_modes(\"/home/german/labo/16/obp/run/wt_ctv/modes_wt_ctv\", aa3);\n",
    "# Defino subespacio esencial\n",
    "essential_index_wt_ctv = sort(unique(pmodes_index_wt_ctv)); # 116 modos\n",
    "essential_aa36_wt_ctv = size(essential_index_wt_ctv)[1]\n",
    "essential_subsp_wt_ctv = modes_wt_ctv[: , essential_index_wt_ctv]\n",
    "\n",
    "# Subsetteo el essential subspace segun SSE\n",
    "essential_subsp_α1_wt_ctv = essential_subsp_wt_ctv[α13, :]\n",
    "essential_subsp_α2_wt_ctv = essential_subsp_wt_ctv[α23, :]\n",
    "essential_subsp_α3_wt_ctv = essential_subsp_wt_ctv[α33, :]\n",
    "essential_subsp_α4_wt_ctv = essential_subsp_wt_ctv[α43, :]\n",
    "essential_subsp_α5_wt_ctv = essential_subsp_wt_ctv[α53, :]\n",
    "essential_subsp_α6_wt_ctv = essential_subsp_wt_ctv[α63, :]\n",
    "essential_subsp_α7_wt_ctv = essential_subsp_wt_ctv[α73, :]\n",
    "\n",
    "essential_subsp_l1_wt_ctv = essential_subsp_wt_ctv[l13, :]\n",
    "essential_subsp_l2_wt_ctv = essential_subsp_wt_ctv[l23, :]\n",
    "essential_subsp_l3_wt_ctv = essential_subsp_wt_ctv[l33, :]\n",
    "essential_subsp_l4_wt_ctv = essential_subsp_wt_ctv[l43, :]\n",
    "essential_subsp_l5_wt_ctv = essential_subsp_wt_ctv[l53, :]\n",
    "essential_subsp_l6_wt_ctv = essential_subsp_wt_ctv[l63, :]\n",
    "\n",
    "# 1era parte p/ obtener el pnumber de c/ modo\n",
    "α1_mtx_wt_ctv = sum((essential_subsp_α1_wt_ctv.^2), 1).^2\n",
    "α2_mtx_wt_ctv = sum((essential_subsp_α2_wt_ctv.^2), 1).^2\n",
    "α3_mtx_wt_ctv = sum((essential_subsp_α3_wt_ctv.^2), 1).^2\n",
    "α4_mtx_wt_ctv = sum((essential_subsp_α4_wt_ctv.^2), 1).^2\n",
    "α5_mtx_wt_ctv = sum((essential_subsp_α5_wt_ctv.^2), 1).^2\n",
    "α6_mtx_wt_ctv = sum((essential_subsp_α6_wt_ctv.^2), 1).^2\n",
    "α7_mtx_wt_ctv = sum((essential_subsp_α7_wt_ctv.^2), 1).^2\n",
    "\n",
    "l1_mtx_wt_ctv = sum((essential_subsp_l1_wt_ctv.^2), 1).^2\n",
    "l2_mtx_wt_ctv = sum((essential_subsp_l2_wt_ctv.^2), 1).^2\n",
    "l3_mtx_wt_ctv = sum((essential_subsp_l3_wt_ctv.^2), 1).^2\n",
    "l4_mtx_wt_ctv = sum((essential_subsp_l4_wt_ctv.^2), 1).^2\n",
    "l5_mtx_wt_ctv = sum((essential_subsp_l5_wt_ctv.^2), 1).^2\n",
    "l6_mtx_wt_ctv = sum((essential_subsp_l6_wt_ctv.^2), 1).^2\n",
    "\n",
    "# Preparo variables\n",
    "sse_wt_ctv = Array{Float64}[α1_mtx_wt_ctv, α2_mtx_wt_ctv, α3_mtx_wt_ctv, α4_mtx_wt_ctv, α5_mtx_wt_ctv,\n",
    "    α6_mtx_wt_ctv, α7_mtx_wt_ctv, l1_mtx_wt_ctv, l2_mtx_wt_ctv, l3_mtx_wt_ctv,\n",
    "    l4_mtx_wt_ctv, l5_mtx_wt_ctv, l6_mtx_wt_ctv]\n",
    "pnum_sse_wt_ctv = Array{Float64}(essential_aa36_wt_ctv)\n",
    "\n",
    "# Saco los números de SSE q mueve c/ modo\n",
    "for i = 1:essential_aa36_wt_ctv\n",
    "    j=1\n",
    "    temp = 0\n",
    "    for sse in sse_wt_ctv\n",
    "        temp = temp + sse[i]  \n",
    "    end\n",
    "    pnum_sse_wt_ctv[i] = 1 / temp\n",
    "end"
   ]
  },
  {
   "cell_type": "markdown",
   "metadata": {
    "collapsed": true
   },
   "source": [
    "## wt_eol"
   ]
  },
  {
   "cell_type": "code",
   "execution_count": null,
   "metadata": {
    "collapsed": false
   },
   "outputs": [],
   "source": [
    "# Leo los modos de PCA\n",
    "modes_wt_eol, evals_wt_eol = read_ptraj_modes(\"/home/german/labo/16/obp/run/wt_eol/modes_wt_eol\", aa3);\n",
    "# Defino subespacio esencial\n",
    "essential_index_wt_eol = sort(unique(pmodes_index_wt_eol)); # 116 modos\n",
    "essential_aa36_wt_eol = size(essential_index_wt_eol)[1]\n",
    "essential_subsp_wt_eol = modes_wt_eol[: , essential_index_wt_eol]\n",
    "\n",
    "# Subsetteo el essential subspace segun SSE\n",
    "essential_subsp_α1_wt_eol = essential_subsp_wt_eol[α13, :]\n",
    "essential_subsp_α2_wt_eol = essential_subsp_wt_eol[α23, :]\n",
    "essential_subsp_α3_wt_eol = essential_subsp_wt_eol[α33, :]\n",
    "essential_subsp_α4_wt_eol = essential_subsp_wt_eol[α43, :]\n",
    "essential_subsp_α5_wt_eol = essential_subsp_wt_eol[α53, :]\n",
    "essential_subsp_α6_wt_eol = essential_subsp_wt_eol[α63, :]\n",
    "essential_subsp_α7_wt_eol = essential_subsp_wt_eol[α73, :]\n",
    "\n",
    "essential_subsp_l1_wt_eol = essential_subsp_wt_eol[l13, :]\n",
    "essential_subsp_l2_wt_eol = essential_subsp_wt_eol[l23, :]\n",
    "essential_subsp_l3_wt_eol = essential_subsp_wt_eol[l33, :]\n",
    "essential_subsp_l4_wt_eol = essential_subsp_wt_eol[l43, :]\n",
    "essential_subsp_l5_wt_eol = essential_subsp_wt_eol[l53, :]\n",
    "essential_subsp_l6_wt_eol = essential_subsp_wt_eol[l63, :]\n",
    "\n",
    "# 1era parte p/ obtener el pnumber de c/ modo\n",
    "α1_mtx_wt_eol = sum((essential_subsp_α1_wt_eol.^2), 1).^2\n",
    "α2_mtx_wt_eol = sum((essential_subsp_α2_wt_eol.^2), 1).^2\n",
    "α3_mtx_wt_eol = sum((essential_subsp_α3_wt_eol.^2), 1).^2\n",
    "α4_mtx_wt_eol = sum((essential_subsp_α4_wt_eol.^2), 1).^2\n",
    "α5_mtx_wt_eol = sum((essential_subsp_α5_wt_eol.^2), 1).^2\n",
    "α6_mtx_wt_eol = sum((essential_subsp_α6_wt_eol.^2), 1).^2\n",
    "α7_mtx_wt_eol = sum((essential_subsp_α7_wt_eol.^2), 1).^2\n",
    "\n",
    "l1_mtx_wt_eol = sum((essential_subsp_l1_wt_eol.^2), 1).^2\n",
    "l2_mtx_wt_eol = sum((essential_subsp_l2_wt_eol.^2), 1).^2\n",
    "l3_mtx_wt_eol = sum((essential_subsp_l3_wt_eol.^2), 1).^2\n",
    "l4_mtx_wt_eol = sum((essential_subsp_l4_wt_eol.^2), 1).^2\n",
    "l5_mtx_wt_eol = sum((essential_subsp_l5_wt_eol.^2), 1).^2\n",
    "l6_mtx_wt_eol = sum((essential_subsp_l6_wt_eol.^2), 1).^2\n",
    "\n",
    "# Preparo variables\n",
    "sse_wt_eol = Array{Float64}[α1_mtx_wt_eol, α2_mtx_wt_eol, α3_mtx_wt_eol, α4_mtx_wt_eol, α5_mtx_wt_eol,\n",
    "    α6_mtx_wt_eol, α7_mtx_wt_eol, l1_mtx_wt_eol, l2_mtx_wt_eol, l3_mtx_wt_eol,\n",
    "    l4_mtx_wt_eol, l5_mtx_wt_eol, l6_mtx_wt_eol]\n",
    "pnum_sse_wt_eol = Array{Float64}(essential_aa36_wt_eol)\n",
    "\n",
    "# Saco los números de SSE q mueve c/ modo\n",
    "for i = 1:essential_aa36_wt_eol\n",
    "    j=1\n",
    "    temp = 0\n",
    "    for sse in sse_wt_eol\n",
    "        temp = temp + sse[i]  \n",
    "    end\n",
    "    pnum_sse_wt_eol[i] = 1 / temp\n",
    "end"
   ]
  },
  {
   "cell_type": "markdown",
   "metadata": {},
   "source": [
    "### Plot!"
   ]
  },
  {
   "cell_type": "code",
   "execution_count": null,
   "metadata": {
    "collapsed": false
   },
   "outputs": [],
   "source": [
    "# Hago los histogramas\n",
    "pnum_sse_wt_apo = convert(Array{Int64}, round(pnum_sse_wt_apo))\n",
    "sse_xmax_wt_apo, sse_freq_wt_apo = hist(pnum_sse_wt_apo, collect(1:1:13))\n",
    "sse_freq_wt_apo = sse_freq_wt_apo / essential_aa36_wt_apo\n",
    "sse_xmin_wt_apo = sse_xmax_wt_apo .- .33\n",
    "pop!(sse_xmin_wt_apo)\n",
    "pop!(sse_xmax_wt_apo)\n",
    "\n",
    "pnum_sse_wt_ctv = convert(Array{Int64}, round(pnum_sse_wt_ctv))\n",
    "sse_xmax_wt_ctv, sse_freq_wt_ctv = hist(pnum_sse_wt_ctv, collect(1:1:13))\n",
    "sse_freq_wt_ctv = sse_freq_wt_ctv / essential_aa36_wt_ctv\n",
    "sse_xmin_wt_ctv = sse_xmax_wt_ctv .- .66\n",
    "pop!(sse_xmin_wt_ctv)\n",
    "pop!(sse_xmax_wt_ctv)\n",
    "\n",
    "pnum_sse_wt_eol = convert(Array{Int64}, round(pnum_sse_wt_eol))\n",
    "sse_xmax_wt_eol, sse_freq_wt_eol = hist(pnum_sse_wt_eol, collect(1:1:13))\n",
    "sse_freq_wt_eol = sse_freq_wt_eol / essential_aa36_wt_eol\n",
    "sse_xmin_wt_eol = sse_xmax_wt_eol .- 1\n",
    "pop!(sse_xmin_wt_eol)\n",
    "pop!(sse_xmax_wt_eol)\n",
    "\n",
    "# Los junto en un dataframe\n",
    "names = [repeat([\"wt_apo\"], inner=[12]); repeat([\"wt_ctv\"], inner=[12]); repeat([\"wt_eol\"], inner=[12])]\n",
    "datos = [sse_freq_wt_apo; sse_freq_wt_ctv; sse_freq_wt_eol ]\n",
    "xmins = [sse_xmin_wt_apo; sse_xmin_wt_ctv; sse_xmin_wt_eol]\n",
    "xmaxs = [sse_xmax_wt_apo; sse_xmax_wt_ctv; sse_xmax_wt_eol]\n",
    "df_datos = DataFrame(Legend=names, RelativeProbability=datos, xmin=xmins, xmax=xmaxs-.2) # acomodo el xmaxs\n",
    "\n",
    "pnum_sse_hist = plot(df_datos, x=\"xmax\", y=\"RelativeProbability\", color=\"Legend\", \n",
    "Geom.bar(position=:dodge),\n",
    "Scale.x_continuous,\n",
    "Theme(bar_spacing=3pt, default_color=colorant\"black\"),\n",
    "Guide.Title(\"P-number in terms of SSEs\"),\n",
    "Coord.Cartesian(xmin=1, xmax=11),\n",
    "Guide.xticks(ticks = collect(1:1:11), orientation=:horizontal),\n",
    "Guide.yticks(ticks = collect(0.0:0.1:0.3), orientation=:horizontal), \n",
    "Guide.xlabel(\"SSE participation number\"), Guide.ylabel(\"relative probability\"))"
   ]
  },
  {
   "cell_type": "code",
   "execution_count": null,
   "metadata": {
    "collapsed": false
   },
   "outputs": [],
   "source": [
    "draw(PDF(\"sse_hist_wt2.pdf\", 45cm, 15cm), pnum_sse_hist);"
   ]
  },
  {
   "cell_type": "markdown",
   "metadata": {},
   "source": [
    "# Ahora hago SSE pero hélices y loops por separado"
   ]
  },
  {
   "cell_type": "code",
   "execution_count": null,
   "metadata": {
    "collapsed": false
   },
   "outputs": [],
   "source": [
    "# Primero tengo q obtener nuevos indices p/ las hélices y los loops\n",
    "# hélices\n",
    "hα13 = collect(1: length(α13))\n",
    "hα23 = collect(hα13[end]+1: hα13[end]+length(α23))\n",
    "hα33 = collect(hα23[end]+1: hα23[end]+length(α33))\n",
    "hα43 = collect(hα33[end]+1: hα33[end]+length(α43))\n",
    "hα53 = collect(hα43[end]+1: hα43[end]+length(α53))\n",
    "hα63 = collect(hα53[end]+1: hα53[end]+length(α63))\n",
    "hα73 = collect(hα63[end]+1: hα63[end]+length(α73));"
   ]
  },
  {
   "cell_type": "markdown",
   "metadata": {},
   "source": [
    "## helices"
   ]
  },
  {
   "cell_type": "markdown",
   "metadata": {},
   "source": [
    "## wt_apo"
   ]
  },
  {
   "cell_type": "code",
   "execution_count": null,
   "metadata": {
    "collapsed": false
   },
   "outputs": [],
   "source": [
    "# Preparo variables\n",
    "# subsetteo el subespacio esencial q corresponde a las hélices\n",
    "αnorm_essential_subsp_wt_apo = [essential_subsp_α1_wt_apo; essential_subsp_α2_wt_apo; essential_subsp_α3_wt_apo; \n",
    "    essential_subsp_α4_wt_apo; essential_subsp_α5_wt_apo; essential_subsp_α6_wt_apo; essential_subsp_α7_wt_apo];\n",
    "# lo renormalizo\n",
    "αnorm_essential_subsp_wt_apo = mapslices(x -> x/norm(x), αnorm_essential_subsp_wt_apo, 1)\n",
    "# y ahora si, separo los subespacios de c/ hélice\n",
    "essential_subsp_α1_wt_apo = αnorm_essential_subsp_wt_apo[hα13, :]\n",
    "essential_subsp_α2_wt_apo = αnorm_essential_subsp_wt_apo[hα23, :]\n",
    "essential_subsp_α3_wt_apo = αnorm_essential_subsp_wt_apo[hα33, :]\n",
    "essential_subsp_α4_wt_apo = αnorm_essential_subsp_wt_apo[hα43, :]\n",
    "essential_subsp_α5_wt_apo = αnorm_essential_subsp_wt_apo[hα53, :]\n",
    "essential_subsp_α6_wt_apo = αnorm_essential_subsp_wt_apo[hα63, :]\n",
    "essential_subsp_α7_wt_apo = αnorm_essential_subsp_wt_apo[hα73, :]\n",
    "\n",
    "# 1era parte p/ obtener el pnumber\n",
    "α1_mtx_wt_apo = sum((essential_subsp_α1_wt_apo.^2), 1).^2\n",
    "α2_mtx_wt_apo = sum((essential_subsp_α2_wt_apo.^2), 1).^2\n",
    "α3_mtx_wt_apo = sum((essential_subsp_α3_wt_apo.^2), 1).^2\n",
    "α4_mtx_wt_apo = sum((essential_subsp_α4_wt_apo.^2), 1).^2\n",
    "α5_mtx_wt_apo = sum((essential_subsp_α5_wt_apo.^2), 1).^2\n",
    "α6_mtx_wt_apo = sum((essential_subsp_α6_wt_apo.^2), 1).^2\n",
    "α7_mtx_wt_apo = sum((essential_subsp_α7_wt_apo.^2), 1).^2\n",
    "\n",
    "# junto todo en una lista\n",
    "sse_wt_apo = Array{Float64}[α1_mtx_wt_apo, α2_mtx_wt_apo, α3_mtx_wt_apo, α4_mtx_wt_apo, α5_mtx_wt_apo,\n",
    "    α6_mtx_wt_apo, α7_mtx_wt_apo]\n",
    "# Preparo variable\n",
    "pnum_sse_wt_apo = Array{Float64}(essential_aa36_wt_apo)\n",
    "\n",
    "# Saco los números de SSE q mueve c/ modo\n",
    "for i = 1:essential_aa36_wt_apo\n",
    "    j=1\n",
    "    temp = 0\n",
    "    for sse in sse_wt_apo\n",
    "        temp = temp + sse[i]  \n",
    "    end\n",
    "    pnum_sse_wt_apo[i] = 1 / temp\n",
    "end"
   ]
  },
  {
   "cell_type": "markdown",
   "metadata": {},
   "source": [
    "## wt_ctv"
   ]
  },
  {
   "cell_type": "code",
   "execution_count": null,
   "metadata": {
    "collapsed": false
   },
   "outputs": [],
   "source": [
    "# Preparo variables\n",
    "# subsetteo el subespacio esencial q corresponde a las hélices\n",
    "αnorm_essential_subsp_wt_ctv = [essential_subsp_α1_wt_ctv; essential_subsp_α2_wt_ctv; essential_subsp_α3_wt_ctv;\n",
    "    essential_subsp_α4_wt_ctv; essential_subsp_α5_wt_ctv; essential_subsp_α6_wt_ctv; essential_subsp_α7_wt_ctv];\n",
    "# lo renormalizo\n",
    "αnorm_essential_subsp_wt_ctv = mapslices(x -> x/norm(x), αnorm_essential_subsp_wt_ctv, 1)\n",
    "# y ahora si, separo los subespacios de c/ hélice\n",
    "essential_subsp_α1_wt_ctv = αnorm_essential_subsp_wt_ctv[hα13, :]\n",
    "essential_subsp_α2_wt_ctv = αnorm_essential_subsp_wt_ctv[hα23, :]\n",
    "essential_subsp_α3_wt_ctv = αnorm_essential_subsp_wt_ctv[hα33, :]\n",
    "essential_subsp_α4_wt_ctv = αnorm_essential_subsp_wt_ctv[hα43, :]\n",
    "essential_subsp_α5_wt_ctv = αnorm_essential_subsp_wt_ctv[hα53, :]\n",
    "essential_subsp_α6_wt_ctv = αnorm_essential_subsp_wt_ctv[hα63, :]\n",
    "essential_subsp_α7_wt_ctv = αnorm_essential_subsp_wt_ctv[hα73, :]\n",
    "\n",
    "# 1era parte p/ obtener el pnumber\n",
    "α1_mtx_wt_ctv = sum((essential_subsp_α1_wt_ctv.^2), 1).^2\n",
    "α2_mtx_wt_ctv = sum((essential_subsp_α2_wt_ctv.^2), 1).^2\n",
    "α3_mtx_wt_ctv = sum((essential_subsp_α3_wt_ctv.^2), 1).^2\n",
    "α4_mtx_wt_ctv = sum((essential_subsp_α4_wt_ctv.^2), 1).^2\n",
    "α5_mtx_wt_ctv = sum((essential_subsp_α5_wt_ctv.^2), 1).^2\n",
    "α6_mtx_wt_ctv = sum((essential_subsp_α6_wt_ctv.^2), 1).^2\n",
    "α7_mtx_wt_ctv = sum((essential_subsp_α7_wt_ctv.^2), 1).^2\n",
    "\n",
    "# junto todo en una lista\n",
    "sse_wt_ctv = Array{Float64}[α1_mtx_wt_ctv, α2_mtx_wt_ctv, α3_mtx_wt_ctv, α4_mtx_wt_ctv, α5_mtx_wt_ctv,\n",
    "    α6_mtx_wt_ctv, α7_mtx_wt_ctv]\n",
    "pnum_sse_wt_ctv = Array{Float64}(essential_aa36_wt_ctv)\n",
    "\n",
    "# Saco los números de SSE q mueve c/ modo\n",
    "for i = 1:essential_aa36_wt_ctv\n",
    "    j=1\n",
    "    temp = 0\n",
    "    for sse in sse_wt_ctv\n",
    "        temp = temp + sse[i]  \n",
    "    end\n",
    "    pnum_sse_wt_ctv[i] = 1 / temp\n",
    "end\n",
    "\n"
   ]
  },
  {
   "cell_type": "markdown",
   "metadata": {},
   "source": [
    "## wt_eol"
   ]
  },
  {
   "cell_type": "code",
   "execution_count": null,
   "metadata": {
    "collapsed": false
   },
   "outputs": [],
   "source": [
    "# Preparo variables\n",
    "# subsetteo el subespacio esencial q corresponde a las hélices\n",
    "αnorm_essential_subsp_wt_eol = [essential_subsp_α1_wt_eol; essential_subsp_α2_wt_eol; essential_subsp_α3_wt_eol;\n",
    "    essential_subsp_α4_wt_eol; essential_subsp_α5_wt_eol; essential_subsp_α6_wt_eol; essential_subsp_α7_wt_eol];\n",
    "# lo renormalizo\n",
    "αnorm_essential_subsp_wt_eol = mapslices(x -> x/norm(x), αnorm_essential_subsp_wt_eol, 1)\n",
    "# y ahora si, separo los subespacios de c/ hélice\n",
    "essential_subsp_α1_wt_eol = αnorm_essential_subsp_wt_eol[hα13, :]\n",
    "essential_subsp_α2_wt_eol = αnorm_essential_subsp_wt_eol[hα23, :]\n",
    "essential_subsp_α3_wt_eol = αnorm_essential_subsp_wt_eol[hα33, :]\n",
    "essential_subsp_α4_wt_eol = αnorm_essential_subsp_wt_eol[hα43, :]\n",
    "essential_subsp_α5_wt_eol = αnorm_essential_subsp_wt_eol[hα53, :]\n",
    "essential_subsp_α6_wt_eol = αnorm_essential_subsp_wt_eol[hα63, :]\n",
    "essential_subsp_α7_wt_eol = αnorm_essential_subsp_wt_eol[hα73, :]\n",
    "\n",
    "# 1era parte p/ obtener el pnumber\n",
    "α1_mtx_wt_eol = sum((essential_subsp_α1_wt_eol.^2), 1).^2\n",
    "α2_mtx_wt_eol = sum((essential_subsp_α2_wt_eol.^2), 1).^2\n",
    "α3_mtx_wt_eol = sum((essential_subsp_α3_wt_eol.^2), 1).^2\n",
    "α4_mtx_wt_eol = sum((essential_subsp_α4_wt_eol.^2), 1).^2\n",
    "α5_mtx_wt_eol = sum((essential_subsp_α5_wt_eol.^2), 1).^2\n",
    "α6_mtx_wt_eol = sum((essential_subsp_α6_wt_eol.^2), 1).^2\n",
    "α7_mtx_wt_eol = sum((essential_subsp_α7_wt_eol.^2), 1).^2\n",
    "\n",
    "# junto todo en una lista\n",
    "sse_wt_eol = Array{Float64}[α1_mtx_wt_eol, α2_mtx_wt_eol, α3_mtx_wt_eol, α4_mtx_wt_eol, α5_mtx_wt_eol,\n",
    "    α6_mtx_wt_eol, α7_mtx_wt_eol]\n",
    "# Preparo variable\n",
    "pnum_sse_wt_eol = Array{Float64}(essential_aa36_wt_eol)\n",
    "\n",
    "# Saco los números de SSE q mueve c/ modo\n",
    "for i = 1:essential_aa36_wt_eol\n",
    "    j=1\n",
    "    temp = 0\n",
    "    for sse in sse_wt_eol\n",
    "        temp = temp + sse[i]  \n",
    "    end\n",
    "    pnum_sse_wt_eol[i] = 1 / temp\n",
    "end"
   ]
  },
  {
   "cell_type": "markdown",
   "metadata": {},
   "source": [
    "## Plot de helices"
   ]
  },
  {
   "cell_type": "code",
   "execution_count": null,
   "metadata": {
    "collapsed": false,
    "scrolled": true
   },
   "outputs": [],
   "source": [
    "# otro plotteo\n",
    "\n",
    "# Hago los histogramas\n",
    "pnum_sse_wt_apo = convert(Array{Int64}, round(pnum_sse_wt_apo))\n",
    "sse_xmax_wt_apo, sse_freq_wt_apo = hist(pnum_sse_wt_apo, collect(1:1:8))\n",
    "sse_freq_wt_apo = sse_freq_wt_apo / essential_aa36_wt_apo\n",
    "sse_xmin_wt_apo = sse_xmax_wt_apo .- .33\n",
    "pop!(sse_xmin_wt_apo)\n",
    "pop!(sse_xmax_wt_apo)\n",
    "\n",
    "pnum_sse_wt_ctv = convert(Array{Int64}, round(pnum_sse_wt_ctv))\n",
    "sse_xmax_wt_ctv, sse_freq_wt_ctv = hist(pnum_sse_wt_ctv, collect(1:1:8))\n",
    "sse_freq_wt_ctv = sse_freq_wt_ctv / essential_aa36_wt_ctv\n",
    "sse_xmin_wt_ctv = sse_xmax_wt_ctv .- .66\n",
    "pop!(sse_xmin_wt_ctv)\n",
    "pop!(sse_xmax_wt_ctv)\n",
    "\n",
    "pnum_sse_wt_eol = convert(Array{Int64}, round(pnum_sse_wt_eol))\n",
    "sse_xmax_wt_eol, sse_freq_wt_eol = hist(pnum_sse_wt_eol, collect(1:1:8))\n",
    "sse_freq_wt_eol = sse_freq_wt_eol / essential_aa36_wt_eol\n",
    "sse_xmin_wt_eol = sse_xmax_wt_eol .- 1\n",
    "pop!(sse_xmin_wt_eol)\n",
    "pop!(sse_xmax_wt_eol)\n",
    "\n",
    "\n",
    "# Los junto en un dataframe\n",
    "names = [repeat([\"wt_apo\"], inner=[7]); repeat([\"wt_ctv\"], inner=[7]); repeat([\"wt_eol\"], inner=[7])]\n",
    "datos = [sse_freq_wt_apo; sse_freq_wt_ctv; sse_freq_wt_eol ]\n",
    "xmins = [sse_xmin_wt_apo; sse_xmin_wt_ctv; sse_xmin_wt_eol]\n",
    "xmaxs = [sse_xmax_wt_apo; sse_xmax_wt_ctv; sse_xmax_wt_eol]\n",
    "df_datos_helices = DataFrame(Legend=names, RelativeProbability=datos, xmin=xmins, xmax=xmaxs+.5) # acomodo el xmaxs\n",
    "\n",
    "pnum_helices_hist = plot(df_datos_helices, x=\"xmax\", y=\"RelativeProbability\", color=\"Legend\", \n",
    "Geom.bar(position=:dodge),\n",
    "Scale.x_continuous,\n",
    "Theme(bar_spacing=3pt, default_color=colorant\"black\"),\n",
    "Guide.Title(\"P-number in terms of helices\"),\n",
    "Coord.Cartesian(xmin=0, xmax=8),\n",
    "Guide.xticks(ticks = collect(1:1:8), orientation=:horizontal),\n",
    "Guide.yticks(ticks = collect(0.0:0.1:0.4), orientation=:horizontal), \n",
    "Guide.xlabel(\"helices participation number\"), Guide.ylabel(\"relative probability\"))"
   ]
  },
  {
   "cell_type": "markdown",
   "metadata": {},
   "source": [
    "##  loops"
   ]
  },
  {
   "cell_type": "code",
   "execution_count": null,
   "metadata": {
    "collapsed": false
   },
   "outputs": [],
   "source": [
    "# loops\n",
    "ll13 = collect(1: length(l13))\n",
    "ll23 = collect(ll13[end]+1: ll13[end]+length(l23))\n",
    "ll33 = collect(ll23[end]+1: ll23[end]+length(l33))\n",
    "ll43 = collect(ll33[end]+1: ll33[end]+length(l43))\n",
    "ll53 = collect(ll43[end]+1: ll43[end]+length(l53))\n",
    "ll63 = collect(ll53[end]+1: ll53[end]+length(l63));"
   ]
  },
  {
   "cell_type": "markdown",
   "metadata": {},
   "source": [
    "## wt_apo"
   ]
  },
  {
   "cell_type": "code",
   "execution_count": null,
   "metadata": {
    "collapsed": false
   },
   "outputs": [],
   "source": [
    "# Preparo variables\n",
    "# subsetteo el subespacio esencial q corresponde a las hélices\n",
    "lnorm_essential_subsp_wt_apo = [essential_subsp_l1_wt_apo; essential_subsp_l2_wt_apo; essential_subsp_l3_wt_apo;\n",
    "    essential_subsp_l4_wt_apo; essential_subsp_l5_wt_apo; essential_subsp_l6_wt_apo];\n",
    "# lo renormalizo\n",
    "lnorm_essential_subsp_wt_apo = mapslices(x -> x/norm(x), lnorm_essential_subsp_wt_apo, 1)\n",
    "# y ahora si, separo los subespacios de c/ hélice\n",
    "essential_subsp_l1_wt_apo = lnorm_essential_subsp_wt_apo[ll13, :]\n",
    "essential_subsp_l2_wt_apo = lnorm_essential_subsp_wt_apo[ll23, :]\n",
    "essential_subsp_l3_wt_apo = lnorm_essential_subsp_wt_apo[ll33, :]\n",
    "essential_subsp_l4_wt_apo = lnorm_essential_subsp_wt_apo[ll43, :]\n",
    "essential_subsp_l5_wt_apo = lnorm_essential_subsp_wt_apo[ll53, :]\n",
    "essential_subsp_l6_wt_apo = lnorm_essential_subsp_wt_apo[ll63, :]\n",
    "\n",
    "# 1era parte p/ obtener el pnumber\n",
    "l1_mtx_wt_apo = sum((essential_subsp_l1_wt_apo.^2), 1).^2\n",
    "l2_mtx_wt_apo = sum((essential_subsp_l2_wt_apo.^2), 1).^2\n",
    "l3_mtx_wt_apo = sum((essential_subsp_l3_wt_apo.^2), 1).^2\n",
    "l4_mtx_wt_apo = sum((essential_subsp_l4_wt_apo.^2), 1).^2\n",
    "l5_mtx_wt_apo = sum((essential_subsp_l5_wt_apo.^2), 1).^2\n",
    "l6_mtx_wt_apo = sum((essential_subsp_l6_wt_apo.^2), 1).^2\n",
    "\n",
    "# junto todo en una lista\n",
    "sse_wt_apo = Array{Float64}[l1_mtx_wt_apo, l2_mtx_wt_apo, l3_mtx_wt_apo, l4_mtx_wt_apo, l5_mtx_wt_apo,\n",
    "    l6_mtx_wt_apo]\n",
    "# Preparo variable\n",
    "pnum_sse_wt_apo = Array{Float64}(essential_aa36_wt_apo)\n",
    "\n",
    "# Saco los números de SSE q mueve c/ modo\n",
    "for i = 1:essential_aa36_wt_apo\n",
    "    j=1\n",
    "    temp = 0\n",
    "    for sse in sse_wt_apo\n",
    "        temp = temp + sse[i]\n",
    "    end\n",
    "    pnum_sse_wt_apo[i] = 1 / temp\n",
    "end"
   ]
  },
  {
   "cell_type": "markdown",
   "metadata": {},
   "source": [
    "## wt_ctv"
   ]
  },
  {
   "cell_type": "code",
   "execution_count": null,
   "metadata": {
    "collapsed": false
   },
   "outputs": [],
   "source": [
    "# Preparo variables\n",
    "# subsetteo el subespacio esencial q corresponde a las hélices\n",
    "lnorm_essential_subsp_wt_ctv = [essential_subsp_l1_wt_ctv; essential_subsp_l2_wt_ctv; essential_subsp_l3_wt_ctv;\n",
    "    essential_subsp_l4_wt_ctv; essential_subsp_l5_wt_ctv; essential_subsp_l6_wt_ctv];\n",
    "# lo renormalizo\n",
    "lnorm_essential_subsp_wt_ctv = mapslices(x -> x/norm(x), lnorm_essential_subsp_wt_ctv, 1)\n",
    "# y ahora si, separo los subespacios de c/ hélice\n",
    "essential_subsp_l1_wt_ctv = lnorm_essential_subsp_wt_ctv[ll13, :]\n",
    "essential_subsp_l2_wt_ctv = lnorm_essential_subsp_wt_ctv[ll23, :]\n",
    "essential_subsp_l3_wt_ctv = lnorm_essential_subsp_wt_ctv[ll33, :]\n",
    "essential_subsp_l4_wt_ctv = lnorm_essential_subsp_wt_ctv[ll43, :]\n",
    "essential_subsp_l5_wt_ctv = lnorm_essential_subsp_wt_ctv[ll53, :]\n",
    "essential_subsp_l6_wt_ctv = lnorm_essential_subsp_wt_ctv[ll63, :]\n",
    "\n",
    "# 1era parte p/ obtener el pnumber\n",
    "l1_mtx_wt_ctv = sum((essential_subsp_l1_wt_ctv.^2), 1).^2\n",
    "l2_mtx_wt_ctv = sum((essential_subsp_l2_wt_ctv.^2), 1).^2\n",
    "l3_mtx_wt_ctv = sum((essential_subsp_l3_wt_ctv.^2), 1).^2\n",
    "l4_mtx_wt_ctv = sum((essential_subsp_l4_wt_ctv.^2), 1).^2\n",
    "l5_mtx_wt_ctv = sum((essential_subsp_l5_wt_ctv.^2), 1).^2\n",
    "l6_mtx_wt_ctv = sum((essential_subsp_l6_wt_ctv.^2), 1).^2\n",
    "\n",
    "# junto todo en una lista\n",
    "sse_wt_ctv = Array{Float64}[l1_mtx_wt_ctv, l2_mtx_wt_ctv, l3_mtx_wt_ctv, l4_mtx_wt_ctv, l5_mtx_wt_ctv,\n",
    "    l6_mtx_wt_ctv]\n",
    "# Preparo variable\n",
    "pnum_sse_wt_ctv = Array{Float64}(essential_aa36_wt_ctv)\n",
    "\n",
    "# Saco los números de SSE q mueve c/ modo\n",
    "for i = 1:essential_aa36_wt_ctv\n",
    "    j=1\n",
    "    temp = 0\n",
    "    for sse in sse_wt_ctv\n",
    "        temp = temp + sse[i]\n",
    "    end\n",
    "    pnum_sse_wt_ctv[i] = 1 / temp\n",
    "end"
   ]
  },
  {
   "cell_type": "markdown",
   "metadata": {},
   "source": [
    "## wt_eol"
   ]
  },
  {
   "cell_type": "code",
   "execution_count": null,
   "metadata": {
    "collapsed": false
   },
   "outputs": [],
   "source": [
    "# Preparo variables\n",
    "# subsetteo el subespacio esencial q corresponde a las hélices\n",
    "lnorm_essential_subsp_wt_eol = [essential_subsp_l1_wt_eol; essential_subsp_l2_wt_eol; essential_subsp_l3_wt_eol;\n",
    "    essential_subsp_l4_wt_eol; essential_subsp_l5_wt_eol; essential_subsp_l6_wt_eol];\n",
    "# lo renormalizo\n",
    "lnorm_essential_subsp_wt_eol = mapslices(x -> x/norm(x), lnorm_essential_subsp_wt_eol, 1)\n",
    "# y ahora si, separo los subespacios de c/ hélice\n",
    "essential_subsp_l1_wt_eol = lnorm_essential_subsp_wt_eol[ll13, :]\n",
    "essential_subsp_l2_wt_eol = lnorm_essential_subsp_wt_eol[ll23, :]\n",
    "essential_subsp_l3_wt_eol = lnorm_essential_subsp_wt_eol[ll33, :]\n",
    "essential_subsp_l4_wt_eol = lnorm_essential_subsp_wt_eol[ll43, :]\n",
    "essential_subsp_l5_wt_eol = lnorm_essential_subsp_wt_eol[ll53, :]\n",
    "essential_subsp_l6_wt_eol = lnorm_essential_subsp_wt_eol[ll63, :]\n",
    "\n",
    "# 1era parte p/ obtener el pnumber\n",
    "l1_mtx_wt_eol = sum((essential_subsp_l1_wt_eol.^2), 1).^2\n",
    "l2_mtx_wt_eol = sum((essential_subsp_l2_wt_eol.^2), 1).^2\n",
    "l3_mtx_wt_eol = sum((essential_subsp_l3_wt_eol.^2), 1).^2\n",
    "l4_mtx_wt_eol = sum((essential_subsp_l4_wt_eol.^2), 1).^2\n",
    "l5_mtx_wt_eol = sum((essential_subsp_l5_wt_eol.^2), 1).^2\n",
    "l6_mtx_wt_eol = sum((essential_subsp_l6_wt_eol.^2), 1).^2\n",
    "\n",
    "# junto todo en una lista\n",
    "sse_wt_eol = Array{Float64}[l1_mtx_wt_eol, l2_mtx_wt_eol, l3_mtx_wt_eol, l4_mtx_wt_eol, l5_mtx_wt_eol,\n",
    "    l6_mtx_wt_eol]\n",
    "# Preparo variable\n",
    "pnum_sse_wt_eol = Array{Float64}(essential_aa36_wt_eol)\n",
    "\n",
    "# Saco los números de SSE q mueve c/ modo\n",
    "for i = 1:essential_aa36_wt_eol\n",
    "    j=1\n",
    "    temp = 0\n",
    "    for sse in sse_wt_eol\n",
    "        temp = temp + sse[i]\n",
    "    end\n",
    "    pnum_sse_wt_eol[i] = 1 / temp\n",
    "end\n"
   ]
  },
  {
   "cell_type": "markdown",
   "metadata": {},
   "source": [
    "## Plot de loops"
   ]
  },
  {
   "cell_type": "code",
   "execution_count": null,
   "metadata": {
    "collapsed": false,
    "scrolled": true
   },
   "outputs": [],
   "source": [
    "# otro plotteo\n",
    "\n",
    "# Hago los histogramas\n",
    "pnum_sse_wt_apo = convert(Array{Int64}, round(pnum_sse_wt_apo))\n",
    "sse_xmax_wt_apo, sse_freq_wt_apo = hist(pnum_sse_wt_apo, collect(1:1:7))\n",
    "sse_freq_wt_apo = sse_freq_wt_apo / essential_aa36_wt_apo\n",
    "sse_xmin_wt_apo = sse_xmax_wt_apo .- .33\n",
    "pop!(sse_xmin_wt_apo)\n",
    "pop!(sse_xmax_wt_apo)\n",
    "\n",
    "pnum_sse_wt_ctv = convert(Array{Int64}, round(pnum_sse_wt_ctv))\n",
    "sse_xmax_wt_ctv, sse_freq_wt_ctv = hist(pnum_sse_wt_ctv, collect(1:1:7))\n",
    "sse_freq_wt_ctv = sse_freq_wt_ctv / essential_aa36_wt_ctv\n",
    "sse_xmin_wt_ctv = sse_xmax_wt_ctv .- .66\n",
    "pop!(sse_xmin_wt_ctv)\n",
    "pop!(sse_xmax_wt_ctv)\n",
    "\n",
    "pnum_sse_wt_eol = convert(Array{Int64}, round(pnum_sse_wt_eol))\n",
    "sse_xmax_wt_eol, sse_freq_wt_eol = hist(pnum_sse_wt_eol, collect(1:1:7))\n",
    "sse_freq_wt_eol = sse_freq_wt_eol / essential_aa36_wt_eol\n",
    "sse_xmin_wt_eol = sse_xmax_wt_eol .- 1\n",
    "pop!(sse_xmin_wt_eol)\n",
    "pop!(sse_xmax_wt_eol)\n",
    "\n",
    "\n",
    "# Los junto en un dataframe\n",
    "names = [repeat([\"wt_apo\"], inner=[6]); repeat([\"wt_ctv\"], inner=[6]); repeat([\"wt_eol\"], inner=[6])]\n",
    "datos = [sse_freq_wt_apo; sse_freq_wt_ctv; sse_freq_wt_eol ]\n",
    "xmins = [sse_xmin_wt_apo; sse_xmin_wt_ctv; sse_xmin_wt_eol]\n",
    "xmaxs = [sse_xmax_wt_apo; sse_xmax_wt_ctv; sse_xmax_wt_eol]\n",
    "df_datos_loops = DataFrame(Legend=names, RelativeProbability=datos, xmin=xmins, xmax=xmaxs+.5) # acomodo el xmaxs\n",
    "\n",
    "#pnum_loops_hist = plot(df_datos_loops, xmin=\"xmin\", xmax=\"xmax\", y=\"RelativeProbability\", color=\"Legend\",\n",
    "pnum_loops_hist = plot(df_datos_loops, x=\"xmax\", y=\"RelativeProbability\", color=\"Legend\",\n",
    "Geom.bar(position=:dodge),\n",
    "Scale.x_continuous,\n",
    "Theme(bar_spacing=3pt, default_color=colorant\"black\"),\n",
    "Guide.Title(\"P-number in terms of loops\"),\n",
    "Coord.Cartesian(xmin=0, xmax=7),\n",
    "Guide.xticks(ticks = collect(1:1:6), orientation=:horizontal),\n",
    "Guide.yticks(ticks = collect(0.0:0.1:0.5), orientation=:horizontal), \n",
    "Guide.xlabel(\"loops participation number\"), Guide.ylabel(\"relative probability\"))"
   ]
  },
  {
   "cell_type": "code",
   "execution_count": null,
   "metadata": {
    "collapsed": false
   },
   "outputs": [],
   "source": [
    "draw(PDF(\"loops-vs-helices_hist_wt2.pdf\", 45cm, 15cm), hstack(pnum_helices_hist, pnum_loops_hist));"
   ]
  },
  {
   "cell_type": "markdown",
   "metadata": {},
   "source": [
    "# Tabla de comparación"
   ]
  },
  {
   "cell_type": "markdown",
   "metadata": {},
   "source": [
    "## Avg contributions de c/ SSE al subespacio"
   ]
  },
  {
   "cell_type": "code",
   "execution_count": null,
   "metadata": {
    "collapsed": false
   },
   "outputs": [],
   "source": [
    "# Subsetteo el essential subspace segun SSE\n",
    "essential_subsp_α1_wt_apo = essential_subsp_wt_apo[α13, :]\n",
    "essential_subsp_α2_wt_apo = essential_subsp_wt_apo[α23, :]\n",
    "essential_subsp_α3_wt_apo = essential_subsp_wt_apo[α33, :]\n",
    "essential_subsp_α4_wt_apo = essential_subsp_wt_apo[α43, :]\n",
    "essential_subsp_α5_wt_apo = essential_subsp_wt_apo[α53, :]\n",
    "essential_subsp_α6_wt_apo = essential_subsp_wt_apo[α63, :]\n",
    "essential_subsp_α7_wt_apo = essential_subsp_wt_apo[α73, :]\n",
    "\n",
    "essential_subsp_l1_wt_apo = essential_subsp_wt_apo[l13, :]\n",
    "essential_subsp_l2_wt_apo = essential_subsp_wt_apo[l23, :]\n",
    "essential_subsp_l3_wt_apo = essential_subsp_wt_apo[l33, :]\n",
    "essential_subsp_l4_wt_apo = essential_subsp_wt_apo[l43, :]\n",
    "essential_subsp_l5_wt_apo = essential_subsp_wt_apo[l53, :]\n",
    "essential_subsp_l6_wt_apo = essential_subsp_wt_apo[l63, :]\n",
    "\n",
    "# compilo todo en una mtx\n",
    "contribution_wt_apo = [ sum((essential_subsp_α1_wt_apo.^2), 1).^2;\n",
    "α2_mtx_wt_apo = sum((essential_subsp_α2_wt_apo.^2), 1).^2; α3_mtx_wt_apo = sum((essential_subsp_α3_wt_apo.^2), 1).^2;\n",
    "α4_mtx_wt_apo = sum((essential_subsp_α4_wt_apo.^2), 1).^2; α5_mtx_wt_apo = sum((essential_subsp_α5_wt_apo.^2), 1).^2;\n",
    "α6_mtx_wt_apo = sum((essential_subsp_α6_wt_apo.^2), 1).^2; α7_mtx_wt_apo = sum((essential_subsp_α7_wt_apo.^2), 1).^2;\n",
    "l1_mtx_wt_apo = sum((essential_subsp_l1_wt_apo.^2), 1).^2; l2_mtx_wt_apo = sum((essential_subsp_l2_wt_apo.^2), 1).^2;\n",
    "l3_mtx_wt_apo = sum((essential_subsp_l3_wt_apo.^2), 1).^2; l4_mtx_wt_apo = sum((essential_subsp_l4_wt_apo.^2), 1).^2;\n",
    "l5_mtx_wt_apo = sum((essential_subsp_l5_wt_apo.^2), 1).^2; l6_mtx_wt_apo = sum((essential_subsp_l6_wt_apo.^2), 1).^2 ];\n",
    "\n",
    "# c/ fila corresponde a un SSE. Las normalizo según la longitud del SSE\n",
    "contribution_wt_apo = diagm([ 1/length(α1), 1/length(α2), 1/length(α3), 1/length(α4), 1/length(α5), 1/length(α6), 1/length(α7),\n",
    "    1/length(l1), 1/length(l2), 1/length(l3), 1/length(l4), 1/length(l5), 1/length(l6) ]) * contribution_wt_apo;\n",
    "\n",
    "# hago promedio ponderado por la incidencia de c/ modo\n",
    "s_wt_apo = contribution_wt_apo * freq_wt_apo[essential_index_wt_apo];\n",
    "# determino la contribución de c/ SSE\n",
    "s_wt_apo = s_wt_apo ./ sum(s_wt_apo) .* 100;"
   ]
  },
  {
   "cell_type": "code",
   "execution_count": null,
   "metadata": {
    "collapsed": false
   },
   "outputs": [],
   "source": [
    "# Subsetteo el essential subspace segun SSE\n",
    "essential_subsp_α1_wt_ctv = essential_subsp_wt_ctv[α13, :]\n",
    "essential_subsp_α2_wt_ctv = essential_subsp_wt_ctv[α23, :]\n",
    "essential_subsp_α3_wt_ctv = essential_subsp_wt_ctv[α33, :]\n",
    "essential_subsp_α4_wt_ctv = essential_subsp_wt_ctv[α43, :]\n",
    "essential_subsp_α5_wt_ctv = essential_subsp_wt_ctv[α53, :]\n",
    "essential_subsp_α6_wt_ctv = essential_subsp_wt_ctv[α63, :]\n",
    "essential_subsp_α7_wt_ctv = essential_subsp_wt_ctv[α73, :]\n",
    "\n",
    "essential_subsp_l1_wt_ctv = essential_subsp_wt_ctv[l13, :]\n",
    "essential_subsp_l2_wt_ctv = essential_subsp_wt_ctv[l23, :]\n",
    "essential_subsp_l3_wt_ctv = essential_subsp_wt_ctv[l33, :]\n",
    "essential_subsp_l4_wt_ctv = essential_subsp_wt_ctv[l43, :]\n",
    "essential_subsp_l5_wt_ctv = essential_subsp_wt_ctv[l53, :]\n",
    "essential_subsp_l6_wt_ctv = essential_subsp_wt_ctv[l63, :]\n",
    "\n",
    "# compilo todo en una mtx\n",
    "contribution_wt_ctv = [ sum((essential_subsp_α1_wt_ctv.^2), 1).^2;\n",
    "α2_mtx_wt_ctv = sum((essential_subsp_α2_wt_ctv.^2), 1).^2; α3_mtx_wt_ctv = sum((essential_subsp_α3_wt_ctv.^2), 1).^2;\n",
    "α4_mtx_wt_ctv = sum((essential_subsp_α4_wt_ctv.^2), 1).^2; α5_mtx_wt_ctv = sum((essential_subsp_α5_wt_ctv.^2), 1).^2;\n",
    "α6_mtx_wt_ctv = sum((essential_subsp_α6_wt_ctv.^2), 1).^2; α7_mtx_wt_ctv = sum((essential_subsp_α7_wt_ctv.^2), 1).^2;\n",
    "l1_mtx_wt_ctv = sum((essential_subsp_l1_wt_ctv.^2), 1).^2; l2_mtx_wt_ctv = sum((essential_subsp_l2_wt_ctv.^2), 1).^2;\n",
    "l3_mtx_wt_ctv = sum((essential_subsp_l3_wt_ctv.^2), 1).^2; l4_mtx_wt_ctv = sum((essential_subsp_l4_wt_ctv.^2), 1).^2;\n",
    "l5_mtx_wt_ctv = sum((essential_subsp_l5_wt_ctv.^2), 1).^2; l6_mtx_wt_ctv = sum((essential_subsp_l6_wt_ctv.^2), 1).^2 ];\n",
    "\n",
    "# c/ fila corresponde a un SSE. Las normalizo según la longitud del SSE\n",
    "contribution_wt_ctv = diagm([ 1/length(α1), 1/length(α2), 1/length(α3), 1/length(α4), 1/length(α5), 1/length(α6), 1/length(α7),\n",
    "    1/length(l1), 1/length(l2), 1/length(l3), 1/length(l4), 1/length(l5), 1/length(l6) ]) * contribution_wt_ctv\n",
    "\n",
    "# hago promedio ponderado por la incidencia de c/ modo\n",
    "s_wt_ctv = contribution_wt_ctv * freq_wt_ctv[essential_index_wt_ctv]\n",
    "# determino la contribución de c/ SSE\n",
    "s_wt_ctv = s_wt_ctv ./ sum(s_wt_ctv) .* 100;"
   ]
  },
  {
   "cell_type": "code",
   "execution_count": null,
   "metadata": {
    "collapsed": false
   },
   "outputs": [],
   "source": [
    "# Subsetteo el essential subspace segun SSE\n",
    "essential_subsp_α1_wt_eol = essential_subsp_wt_eol[α13, :]\n",
    "essential_subsp_α2_wt_eol = essential_subsp_wt_eol[α23, :]\n",
    "essential_subsp_α3_wt_eol = essential_subsp_wt_eol[α33, :]\n",
    "essential_subsp_α4_wt_eol = essential_subsp_wt_eol[α43, :]\n",
    "essential_subsp_α5_wt_eol = essential_subsp_wt_eol[α53, :]\n",
    "essential_subsp_α6_wt_eol = essential_subsp_wt_eol[α63, :]\n",
    "essential_subsp_α7_wt_eol = essential_subsp_wt_eol[α73, :]\n",
    "\n",
    "essential_subsp_l1_wt_eol = essential_subsp_wt_eol[l13, :]\n",
    "essential_subsp_l2_wt_eol = essential_subsp_wt_eol[l23, :]\n",
    "essential_subsp_l3_wt_eol = essential_subsp_wt_eol[l33, :]\n",
    "essential_subsp_l4_wt_eol = essential_subsp_wt_eol[l43, :]\n",
    "essential_subsp_l5_wt_eol = essential_subsp_wt_eol[l53, :]\n",
    "essential_subsp_l6_wt_eol = essential_subsp_wt_eol[l63, :]\n",
    "\n",
    "# compilo todo en una mtx\n",
    "contribution_wt_eol = [ sum((essential_subsp_α1_wt_eol.^2), 1).^2;\n",
    "α2_mtx_wt_eol = sum((essential_subsp_α2_wt_eol.^2), 1).^2; α3_mtx_wt_eol = sum((essential_subsp_α3_wt_eol.^2), 1).^2;\n",
    "α4_mtx_wt_eol = sum((essential_subsp_α4_wt_eol.^2), 1).^2; α5_mtx_wt_eol = sum((essential_subsp_α5_wt_eol.^2), 1).^2;\n",
    "α6_mtx_wt_eol = sum((essential_subsp_α6_wt_eol.^2), 1).^2; α7_mtx_wt_eol = sum((essential_subsp_α7_wt_eol.^2), 1).^2;\n",
    "l1_mtx_wt_eol = sum((essential_subsp_l1_wt_eol.^2), 1).^2; l2_mtx_wt_eol = sum((essential_subsp_l2_wt_eol.^2), 1).^2;\n",
    "l3_mtx_wt_eol = sum((essential_subsp_l3_wt_eol.^2), 1).^2; l4_mtx_wt_eol = sum((essential_subsp_l4_wt_eol.^2), 1).^2;\n",
    "l5_mtx_wt_eol = sum((essential_subsp_l5_wt_eol.^2), 1).^2; l6_mtx_wt_eol = sum((essential_subsp_l6_wt_eol.^2), 1).^2 ];\n",
    "\n",
    "# c/ fila corresponde a un SSE. Las normalizo según la longitud del SSE\n",
    "contribution_wt_eol = diagm([ 1/length(α1), 1/length(α2), 1/length(α3), 1/length(α4), 1/length(α5), 1/length(α6), 1/length(α7),\n",
    "    1/length(l1), 1/length(l2), 1/length(l3), 1/length(l4), 1/length(l5), 1/length(l6) ]) * contribution_wt_eol\n",
    "\n",
    "# hago promedio ponderado por la incidencia de c/ modo\n",
    "s_wt_eol = contribution_wt_eol * freq_wt_eol[essential_index_wt_eol]\n",
    "# determino la contribución de c/ SSE\n",
    "s_wt_eol = s_wt_eol ./ sum(s_wt_eol) .* 100;"
   ]
  },
  {
   "cell_type": "markdown",
   "metadata": {
    "collapsed": false
   },
   "source": [
    "## RMSD de SSEs"
   ]
  },
  {
   "cell_type": "markdown",
   "metadata": {},
   "source": [
    "## wt_apo"
   ]
  },
  {
   "cell_type": "code",
   "execution_count": null,
   "metadata": {
    "collapsed": false
   },
   "outputs": [],
   "source": [
    "# Leo los rmsds\n",
    "rmsd_a1_wt_apo, header = read_ptraj_rmsd(\"/home/german/labo/16/obp/run/wt_apo/rmsd/a1_rmsd_wt_apo\")\n",
    "        rmsd_l1_wt_apo, header = read_ptraj_rmsd(\"/home/german/labo/16/obp/run/wt_apo/rmsd/l1_rmsd_wt_apo\")\n",
    "rmsd_a2_wt_apo, header = read_ptraj_rmsd(\"/home/german/labo/16/obp/run/wt_apo/rmsd/a2_rmsd_wt_apo\")\n",
    "        rmsd_l2_wt_apo, header = read_ptraj_rmsd(\"/home/german/labo/16/obp/run/wt_apo/rmsd/a2_rmsd_wt_apo\")\n",
    "rmsd_a3_wt_apo, header = read_ptraj_rmsd(\"/home/german/labo/16/obp/run/wt_apo/rmsd/a3_rmsd_wt_apo\")\n",
    "        rmsd_l3_wt_apo, header = read_ptraj_rmsd(\"/home/german/labo/16/obp/run/wt_apo/rmsd/a3_rmsd_wt_apo\")\n",
    "rmsd_a4_wt_apo, header = read_ptraj_rmsd(\"/home/german/labo/16/obp/run/wt_apo/rmsd/a4_rmsd_wt_apo\")\n",
    "        rmsd_l4_wt_apo, header = read_ptraj_rmsd(\"/home/german/labo/16/obp/run/wt_apo/rmsd/a4_rmsd_wt_apo\")\n",
    "rmsd_a5_wt_apo, header = read_ptraj_rmsd(\"/home/german/labo/16/obp/run/wt_apo/rmsd/a5_rmsd_wt_apo\")\n",
    "        rmsd_l5_wt_apo, header = read_ptraj_rmsd(\"/home/german/labo/16/obp/run/wt_apo/rmsd/a5_rmsd_wt_apo\")\n",
    "rmsd_a6_wt_apo, header = read_ptraj_rmsd(\"/home/german/labo/16/obp/run/wt_apo/rmsd/a6_rmsd_wt_apo\")\n",
    "        rmsd_l6_wt_apo, header = read_ptraj_rmsd(\"/home/german/labo/16/obp/run/wt_apo/rmsd/a6_rmsd_wt_apo\")\n",
    "rmsd_a7_wt_apo, header = read_ptraj_rmsd(\"/home/german/labo/16/obp/run/wt_apo/rmsd/a7_rmsd_wt_apo\");\n",
    "\n",
    "# Los compilo en un array\n",
    "rmsd_wt_apo = [mean(rmsd_a1_wt_apo[:, 2]); mean(rmsd_a2_wt_apo[:, 2]); mean(rmsd_a3_wt_apo[:, 2]); mean(rmsd_a4_wt_apo[:, 2]);\n",
    "mean(rmsd_a5_wt_apo[:, 2]); mean(rmsd_a6_wt_apo[:, 2]); mean(rmsd_a7_wt_apo[:, 2]); mean(rmsd_l1_wt_apo[:, 2]);\n",
    "mean(rmsd_l2_wt_apo[:, 2]); mean(rmsd_l3_wt_apo[:, 2]); mean(rmsd_l4_wt_apo[:, 2]); mean(rmsd_l5_wt_apo[:, 2]);\n",
    "mean(rmsd_l6_wt_apo[:, 2])];"
   ]
  },
  {
   "cell_type": "markdown",
   "metadata": {},
   "source": [
    "## wt_ctv"
   ]
  },
  {
   "cell_type": "code",
   "execution_count": null,
   "metadata": {
    "collapsed": false
   },
   "outputs": [],
   "source": [
    "# Leo los rmsds\n",
    "rmsd_a1_wt_ctv, header = read_ptraj_rmsd(\"/home/german/labo/16/obp/run/wt_ctv/rmsd/a1_rmsd_wt_ctv\")\n",
    "        rmsd_l1_wt_ctv, header = read_ptraj_rmsd(\"/home/german/labo/16/obp/run/wt_ctv/rmsd/l1_rmsd_wt_ctv\")\n",
    "rmsd_a2_wt_ctv, header = read_ptraj_rmsd(\"/home/german/labo/16/obp/run/wt_ctv/rmsd/a2_rmsd_wt_ctv\")\n",
    "        rmsd_l2_wt_ctv, header = read_ptraj_rmsd(\"/home/german/labo/16/obp/run/wt_ctv/rmsd/a2_rmsd_wt_ctv\")\n",
    "rmsd_a3_wt_ctv, header = read_ptraj_rmsd(\"/home/german/labo/16/obp/run/wt_ctv/rmsd/a3_rmsd_wt_ctv\")\n",
    "        rmsd_l3_wt_ctv, header = read_ptraj_rmsd(\"/home/german/labo/16/obp/run/wt_ctv/rmsd/a3_rmsd_wt_ctv\")\n",
    "rmsd_a4_wt_ctv, header = read_ptraj_rmsd(\"/home/german/labo/16/obp/run/wt_ctv/rmsd/a4_rmsd_wt_ctv\")\n",
    "        rmsd_l4_wt_ctv, header = read_ptraj_rmsd(\"/home/german/labo/16/obp/run/wt_ctv/rmsd/a4_rmsd_wt_ctv\")\n",
    "rmsd_a5_wt_ctv, header = read_ptraj_rmsd(\"/home/german/labo/16/obp/run/wt_ctv/rmsd/a5_rmsd_wt_ctv\")\n",
    "        rmsd_l5_wt_ctv, header = read_ptraj_rmsd(\"/home/german/labo/16/obp/run/wt_ctv/rmsd/a5_rmsd_wt_ctv\")\n",
    "rmsd_a6_wt_ctv, header = read_ptraj_rmsd(\"/home/german/labo/16/obp/run/wt_ctv/rmsd/a6_rmsd_wt_ctv\")\n",
    "        rmsd_l6_wt_ctv, header = read_ptraj_rmsd(\"/home/german/labo/16/obp/run/wt_ctv/rmsd/a6_rmsd_wt_ctv\")\n",
    "rmsd_a7_wt_ctv, header = read_ptraj_rmsd(\"/home/german/labo/16/obp/run/wt_ctv/rmsd/a7_rmsd_wt_ctv\");\n",
    "\n",
    "# Los compilo en un array\n",
    "rmsd_wt_ctv = [mean(rmsd_a1_wt_ctv[:, 2]); mean(rmsd_a2_wt_ctv[:, 2]); mean(rmsd_a3_wt_ctv[:, 2]); mean(rmsd_a4_wt_ctv[:, 2]);\n",
    "mean(rmsd_a5_wt_ctv[:, 2]); mean(rmsd_a6_wt_ctv[:, 2]); mean(rmsd_a7_wt_ctv[:, 2]); mean(rmsd_l1_wt_ctv[:, 2]);\n",
    "mean(rmsd_l2_wt_ctv[:, 2]); mean(rmsd_l3_wt_ctv[:, 2]); mean(rmsd_l4_wt_ctv[:, 2]); mean(rmsd_l5_wt_ctv[:, 2]);\n",
    "mean(rmsd_l6_wt_ctv[:, 2])];"
   ]
  },
  {
   "cell_type": "markdown",
   "metadata": {},
   "source": [
    "## wt_eol"
   ]
  },
  {
   "cell_type": "code",
   "execution_count": null,
   "metadata": {
    "collapsed": false,
    "scrolled": true
   },
   "outputs": [],
   "source": [
    "# Leo los rmsds\n",
    "rmsd_a1_wt_eol, header = read_ptraj_rmsd(\"/home/german/labo/16/obp/run/wt_eol/rmsd/a1_rmsd_wt_eol\")\n",
    "        rmsd_l1_wt_eol, header = read_ptraj_rmsd(\"/home/german/labo/16/obp/run/wt_eol/rmsd/l1_rmsd_wt_eol\")\n",
    "rmsd_a2_wt_eol, header = read_ptraj_rmsd(\"/home/german/labo/16/obp/run/wt_eol/rmsd/a2_rmsd_wt_eol\")\n",
    "        rmsd_l2_wt_eol, header = read_ptraj_rmsd(\"/home/german/labo/16/obp/run/wt_eol/rmsd/a2_rmsd_wt_eol\")\n",
    "rmsd_a3_wt_eol, header = read_ptraj_rmsd(\"/home/german/labo/16/obp/run/wt_eol/rmsd/a3_rmsd_wt_eol\")\n",
    "        rmsd_l3_wt_eol, header = read_ptraj_rmsd(\"/home/german/labo/16/obp/run/wt_eol/rmsd/a3_rmsd_wt_eol\")\n",
    "rmsd_a4_wt_eol, header = read_ptraj_rmsd(\"/home/german/labo/16/obp/run/wt_eol/rmsd/a4_rmsd_wt_eol\")\n",
    "        rmsd_l4_wt_eol, header = read_ptraj_rmsd(\"/home/german/labo/16/obp/run/wt_eol/rmsd/a4_rmsd_wt_eol\")\n",
    "rmsd_a5_wt_eol, header = read_ptraj_rmsd(\"/home/german/labo/16/obp/run/wt_eol/rmsd/a5_rmsd_wt_eol\")\n",
    "        rmsd_l5_wt_eol, header = read_ptraj_rmsd(\"/home/german/labo/16/obp/run/wt_eol/rmsd/a5_rmsd_wt_eol\")\n",
    "rmsd_a6_wt_eol, header = read_ptraj_rmsd(\"/home/german/labo/16/obp/run/wt_eol/rmsd/a6_rmsd_wt_eol\")\n",
    "        rmsd_l6_wt_eol, header = read_ptraj_rmsd(\"/home/german/labo/16/obp/run/wt_eol/rmsd/a6_rmsd_wt_eol\")\n",
    "rmsd_a7_wt_eol, header = read_ptraj_rmsd(\"/home/german/labo/16/obp/run/wt_eol/rmsd/a7_rmsd_wt_eol\");\n",
    "\n",
    "# Los compilo en un array\n",
    "rmsd_wt_eol = [mean(rmsd_a1_wt_eol[:, 2]); mean(rmsd_a2_wt_eol[:, 2]); mean(rmsd_a3_wt_eol[:, 2]); mean(rmsd_a4_wt_eol[:, 2]);\n",
    "mean(rmsd_a5_wt_eol[:, 2]); mean(rmsd_a6_wt_eol[:, 2]); mean(rmsd_a7_wt_eol[:, 2]); mean(rmsd_l1_wt_eol[:, 2]);\n",
    "mean(rmsd_l2_wt_eol[:, 2]); mean(rmsd_l3_wt_eol[:, 2]); mean(rmsd_l4_wt_eol[:, 2]); mean(rmsd_l5_wt_eol[:, 2]);\n",
    "mean(rmsd_l6_wt_eol[:, 2])];"
   ]
  },
  {
   "cell_type": "code",
   "execution_count": null,
   "metadata": {
    "collapsed": false
   },
   "outputs": [],
   "source": [
    "# Ahora hago la tabla con los resultados\n",
    "\n",
    "# hago la columna de residuos\n",
    "resi = [ string(α1[1], \"-\", α1[end]), string(α2[1], \"-\", α2[end]), string(α3[1], \"-\", α3[end]),\n",
    "string(α4[1], \"-\", α4[end]), string(α5[1], \"-\", α5[end]), string(α6[1], \"-\", α6[end]),\n",
    "string(α7[1], \"-\", α7[end]), string(l1[1], \"-\", l1[end]), string(l2[1], \"-\", l2[end]),\n",
    "string(l3[1], \"-\", l3[end]), string(l4[1], \"-\", l4[end]), string(l5[1], \"-\", l5[end]), string(l6[1], \"-\", l6[end]) ]\n",
    "\n",
    "# junto todo en un data frame\n",
    "df_tabla = DataFrame(Index = collect(1:sse_count), Residues = resi,\n",
    "SSE = [\"α1\", \"α2\", \"α3\", \"α4\", \"α5\", \"α6\", \"α7\", \"L1\", \"L2\", \"L3\", \"L4\", \"L5\", \"L6\"],\n",
    "SWtApo = round(s_wt_apo, 2), SWtCtv = round(s_wt_ctv, 2), SWtEol = round(s_wt_eol, 2), RMSDWtApo= round(rmsd_wt_apo, 2),\n",
    "RMSDWtCtv = round(rmsd_wt_ctv, 2), RMSDWtEol = round(rmsd_wt_eol, 2))\n",
    "\n",
    "# escribo el data frame en un file\n",
    "writetable(\"tabla_1\", df_tabla, separator='\\t')\n",
    "\n",
    "df_tabla"
   ]
  },
  {
   "cell_type": "code",
   "execution_count": null,
   "metadata": {
    "collapsed": false
   },
   "outputs": [],
   "source": []
  },
  {
   "cell_type": "code",
   "execution_count": null,
   "metadata": {
    "collapsed": false
   },
   "outputs": [],
   "source": []
  },
  {
   "cell_type": "code",
   "execution_count": null,
   "metadata": {
    "collapsed": false
   },
   "outputs": [],
   "source": []
  },
  {
   "cell_type": "code",
   "execution_count": null,
   "metadata": {
    "collapsed": false
   },
   "outputs": [],
   "source": []
  },
  {
   "cell_type": "code",
   "execution_count": null,
   "metadata": {
    "collapsed": true
   },
   "outputs": [],
   "source": []
  }
 ],
 "metadata": {
  "kernelspec": {
   "display_name": "Julia 0.4.5",
   "language": "julia",
   "name": "julia-0.4"
  },
  "language_info": {
   "file_extension": ".jl",
   "mimetype": "application/julia",
   "name": "julia",
   "version": "0.4.5"
  }
 },
 "nbformat": 4,
 "nbformat_minor": 0
}
